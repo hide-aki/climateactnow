{
 "cells": [
  {
   "cell_type": "code",
   "execution_count": 3,
   "metadata": {},
   "outputs": [],
   "source": [
    "import os\n",
    "import re\n",
    "import io\n",
    "import sys\n",
    "import requests\n",
    "import requests_cache\n",
    "import pandas as pd\n",
    "import plotly.graph_objects as go\n",
    "from datetime import timedelta\n",
    "\n",
    "STATISTICS_URI = \"https://api.climateactnow.com.au/api/statistic\"\n",
    "ELECTORATES_URI = \"https://api.climateactnow.com.au/api/electorate\"\n",
    "ELECTION_RESULTS_URI = \"https://results.aec.gov.au/24310/Website/Downloads/HouseTppByDivisionDownload-24310.csv\""
   ]
  },
  {
   "cell_type": "code",
   "execution_count": 4,
   "metadata": {},
   "outputs": [],
   "source": [
    "requests_cache.install_cache(\".cache\", expire_after=timedelta(hours=1))\n",
    "\n",
    "req_stats = requests.get(STATISTICS_URI).json()[\"data\"]\n",
    "req_electorates = requests.get(ELECTORATES_URI).json()[\"data\"]\n",
    "req_election = requests.get(ELECTION_RESULTS_URI).text.split(\"\\r\\n\", 1)[1] # weird hacky shit because AEC returns bad csv\n",
    "\n",
    "stats = pd.DataFrame(req_stats[\"groupedByElectorates\"].items(), columns=[\"id\", \"votes\"])\n",
    "electorates = pd.DataFrame(req_electorates, )\n",
    "election2019 = pd.read_csv(io.StringIO(req_election))\n"
   ]
  },
  {
   "cell_type": "code",
   "execution_count": 19,
   "metadata": {
    "scrolled": true
   },
   "outputs": [],
   "source": [
    "\n",
    "# clean stats\n",
    "stats.set_index(stats.columns[0]).reset_index()\n",
    "\n",
    "# clean electorates\n",
    "electorates.set_index(electorates.columns[0]).reset_index()\n",
    "def clean_social(v):\n",
    "    if not v:\n",
    "        return \"\"\n",
    "    m = re.search(r'\\.com\\/(\\w+)', v)\n",
    "    if m:\n",
    "        return m.group(1)\n",
    "    return \"\"\n",
    "\n",
    "def fix_names(name):\n",
    "    if name == \"Mcpherson\":\n",
    "        return \"McPherson\"\n",
    "    if name == \"Mcmahon\":\n",
    "        return \"McMahon\"\n",
    "    if name == \"Eden-monaro\":\n",
    "        return \"Eden-Monaro\"\n",
    "    if name == \"Mcewen\":\n",
    "        return \"McEwen\"\n",
    "    if name == \"O'connor\":\n",
    "        return \"O'Connor\"\n",
    "    return name\n",
    "\n",
    "electorates[\"fbook\"] = electorates[\"fbook\"].apply(clean_social)\n",
    "electorates[\"twitter\"] = electorates[\"twitter\"].apply(clean_social)\n",
    "electorates[\"electorate\"] = electorates[\"electorate\"].apply(fix_names)\n",
    "\n",
    "# clean election data\n",
    "election2019 = election2019.rename(columns={\n",
    "    \"DivisionNm\": \"electorate\", \n",
    "    \"Liberal/National Coalition Votes\": \"LNP_Votes\",\n",
    "    \"Liberal/National Coalition Percentage\": \"LNP_Per\",\n",
    "    \"Australian Labor Party Votes\": \"ALP_Votes\",\n",
    "    \"Australian Labor Party Percentage\": \"ALP_Per\",\n",
    "    \"PartyAb\": \"Party\",\n",
    "})\n",
    "\n",
    "\n",
    "def fix_parties(row):\n",
    "    n = row[\"preferred_name\"]\n",
    "    if n == \"Zali Steggall\":\n",
    "        return \"IND\"\n",
    "    if n == \"Adam Bandt\":\n",
    "        return \"GRN\"\n",
    "    if n == \"Rebekha Sharkie\":\n",
    "        return \"IND\"\n",
    "    if n == \"Helen Haines\":\n",
    "        return \"IND\"\n",
    "    if n == \"Andrew Wilkie\":\n",
    "        return \"IND\"\n",
    "    return row[\"Party\"]\n",
    "\n",
    "def calculate_margin(row):\n",
    "    if row[\"Party\"] == \"ALP\":\n",
    "        return row[\"ALP_Per\"] - row[\"LNP_Per\"]\n",
    "    else:\n",
    "        return row[\"LNP_Per\"] - row[\"ALP_Per\"]\n",
    "\n",
    "def calculate_votediff(row):\n",
    "    if row[\"Party\"] == \"ALP\":\n",
    "        return round(row[\"ALP_Votes\"] - row[\"LNP_Votes\"], 0)\n",
    "    else:\n",
    "        return round(row[\"LNP_Votes\"] - row[\"ALP_Votes\"], 0)\n",
    "\n",
    "election2019[\"Margin\"] = round(election2019.apply(calculate_margin, axis=1), 2)\n",
    "election2019[\"Vote_diff\"] = election2019.apply(calculate_votediff, axis=1)\n",
    "election2019 = election2019.astype({'Vote_diff': 'int32'})\n",
    "\n",
    "# merges\n",
    "electorate_stats = pd.merge(electorates, stats, left_index=True, right_index=True)\n",
    "vote_stats = pd.merge(electorate_stats, election2019, how=\"left\", on=\"electorate\")\n",
    "\n",
    "# clean up result\n",
    "vote_stats[\"Participation\"] = round((vote_stats[\"votes\"] / vote_stats[\"TotalVotes\"]) * 100, 2)\n",
    "vote_stats[\"Party\"] = vote_stats.apply(fix_parties, axis=1)\n",
    "\n",
    "vote_stats.drop([vote_stats.columns[0],  \"created_at\", \"updated_at\", \"twitter\", \"fbook\", \"DivisionID\", \"StateAb\", \"email\", \"phone\", \"id_y\", \"LNP_Votes\", \"LNP_Per\", \"ALP_Votes\", \"ALP_Per\", \"TotalVotes\"], inplace=True, axis='columns')\n",
    "vote_stats.drop(151, inplace=True) # drop the \"International\" row\n",
    "\n",
    "# vote_stats.sort_values(by=\"votes\", ascending=False).loc[vote_stats['Party'] == \"LP\"].head(100)\n",
    "\n",
    "# vote_stats.to_csv(\"climate_action_vote_stats.csv\", index=False)\n"
   ]
  },
  {
   "cell_type": "code",
   "execution_count": 37,
   "metadata": {},
   "outputs": [
    {
     "data": {
      "application/vnd.plotly.v1+json": {
       "config": {
        "plotlyServerURL": "https://plot.ly"
       },
       "data": [
        {
         "cells": {
          "align": "left",
          "fill": {
           "color": "lavender"
          },
          "values": [
           [
            "Holt",
            "Gorton",
            "McMahon",
            "Fowler",
            "Werriwa",
            "Bruce",
            "Calwell",
            "Fraser",
            "Flynn",
            "Burt",
            "Scullin",
            "Lalor",
            "Spence",
            "Chifley",
            "Cowan",
            "Blaxland",
            "Rankin",
            "Capricornia",
            "Pearce",
            "Hinkler",
            "Brand",
            "Kennedy",
            "Longman",
            "Makin",
            "Greenway",
            "Maranoa",
            "Forde",
            "Lindsay",
            "Macarthur",
            "Nicholls",
            "Dawson",
            "Mallee",
            "Parkes",
            "Lingiari",
            "La Trobe",
            "Barker",
            "Hotham",
            "Fadden",
            "Canning",
            "Moore",
            "Watson",
            "Braddon",
            "Petrie",
            "Aston",
            "Oxley",
            "Blair",
            "Durack",
            "Groom",
            "Paterson",
            "Bowman",
            "Grey",
            "Wright",
            "Kingston",
            "O'Connor",
            "Solomon",
            "McEwen",
            "Farrer",
            "Lyons",
            "Hasluck",
            "Parramatta",
            "Moncrieff",
            "Isaacs",
            "Bass",
            "Forrest",
            "Mitchell",
            "Dunkley",
            "Banks",
            "Wannon",
            "Riverina",
            "Corio",
            "Monash",
            "Tangney",
            "Dobell",
            "Bonner",
            "Menzies",
            "Herbert",
            "Shortland",
            "Leichhardt",
            "Hindmarsh",
            "Whitlam",
            "Swan",
            "Deakin",
            "Stirling",
            "Dickson",
            "Cook",
            "Gippsland",
            "Lilley",
            "Chisholm",
            "Hume",
            "Wide Bay",
            "Hunter",
            "Barton",
            "McPherson",
            "Fisher",
            "Calare",
            "Sturt",
            "Perth",
            "Curtin",
            "Fairfax",
            "Moreton",
            "Fenner",
            "Gellibrand",
            "New England",
            "Casey",
            "Jagajaga",
            "Hughes",
            "Reid",
            "Flinders",
            "Robertson",
            "Fremantle",
            "Franklin",
            "Cunningham",
            "Maribyrnong",
            "Ballarat",
            "Lyne",
            "Griffith",
            "Berowra",
            "Clark",
            "Page",
            "Ryan",
            "Boothby",
            "Bendigo",
            "Bennelong",
            "Bean",
            "Adelaide",
            "Goldstein",
            "Kooyong",
            "Mayo",
            "Corangamite",
            "Indi",
            "Newcastle",
            "Gilmore",
            "Kingsford Smith",
            "Cowper",
            "Higgins",
            "Macnamara",
            "Macquarie",
            "Eden-Monaro",
            "Bradfield",
            "Wills",
            "Cooper",
            "Richmond",
            "Brisbane",
            "Mackellar",
            "Canberra",
            "North Sydney",
            "Grayndler",
            "Wentworth",
            "Melbourne",
            "Sydney",
            "Warringah"
           ],
           [
            "VIC",
            "VIC",
            "NSW",
            "NSW",
            "NSW",
            "VIC",
            "VIC",
            "VIC",
            "QLD",
            "WA",
            "VIC",
            "VIC",
            "SA",
            "NSW",
            "WA",
            "NSW",
            "QLD",
            "QLD",
            "WA",
            "QLD",
            "WA",
            "QLD",
            "QLD",
            "SA",
            "NSW",
            "QLD",
            "QLD",
            "NSW",
            "NSW",
            "VIC",
            "QLD",
            "VIC",
            "NSW",
            "NT",
            "VIC",
            "SA",
            "VIC",
            "QLD",
            "WA",
            "WA",
            "NSW",
            "TAS",
            "QLD",
            "VIC",
            "QLD",
            "QLD",
            "WA",
            "QLD",
            "NSW",
            "QLD",
            "SA",
            "QLD",
            "SA",
            "WA",
            "NT",
            "VIC",
            "NSW",
            "TAS",
            "WA",
            "NSW",
            "QLD",
            "VIC",
            "TAS",
            "WA",
            "NSW",
            "VIC",
            "NSW",
            "VIC",
            "NSW",
            "VIC",
            "VIC",
            "WA",
            "NSW",
            "QLD",
            "VIC",
            "QLD",
            "NSW",
            "QLD",
            "SA",
            "NSW",
            "WA",
            "VIC",
            "WA",
            "QLD",
            "NSW",
            "VIC",
            "QLD",
            "VIC",
            "NSW",
            "QLD",
            "NSW",
            "NSW",
            "QLD",
            "QLD",
            "NSW",
            "SA",
            "WA",
            "WA",
            "QLD",
            "QLD",
            "ACT",
            "VIC",
            "NSW",
            "VIC",
            "VIC",
            "NSW",
            "NSW",
            "VIC",
            "NSW",
            "WA",
            "TAS",
            "NSW",
            "VIC",
            "VIC",
            "NSW",
            "QLD",
            "NSW",
            "TAS",
            "NSW",
            "QLD",
            "SA",
            "VIC",
            "NSW",
            "ACT",
            "SA",
            "VIC",
            "VIC",
            "SA",
            "VIC",
            "VIC",
            "NSW",
            "NSW",
            "NSW",
            "NSW",
            "VIC",
            "VIC",
            "NSW",
            "NSW",
            "NSW",
            "VIC",
            "VIC",
            "NSW",
            "QLD",
            "NSW",
            "ACT",
            "NSW",
            "NSW",
            "NSW",
            "VIC",
            "NSW",
            "NSW"
           ],
           [
            "Anthony Byrne",
            "Brendan O'connor",
            "Chris Bowen",
            "Chris Hayes",
            "Anne Stanley",
            "Julian Hill",
            "Maria Vamvakinou",
            "Daniel Mulino",
            "Ken O'dowd",
            "Matt Keogh",
            "Andrew Giles",
            "Joanne Ryan",
            "Nick Champion",
            "Ed Husic",
            "Anne Aly",
            "Jason Clare",
            "Jim Chalmers",
            "Michelle Landry",
            "Christian Porter",
            "Keith Pitt",
            "Madeleine King",
            "Bob Katter",
            "Terry Young",
            "Tony Zappia",
            "Michelle Rowland",
            "David Littleproud",
            "Bert Van Manen",
            "Melissa Mcintosh",
            "Mike Freelander",
            "Damian Drum",
            "George Christensen",
            "Anne Webster",
            "Mark Coulton",
            "Warren Snowdon",
            "Jason Wood",
            "Tony Pasin",
            "Clare O'neil",
            "Stuart Robert",
            "Andrew Hastie",
            "Ian Goodenough",
            "Tony Burke",
            "Gavin Pearce",
            "Luke Howarth",
            "Alan Tudge",
            "Milton Dick",
            "Shayne Neumann",
            "Melissa Price",
            "John Mcveigh",
            "Meryl Swanson",
            "Andrew Laming",
            "Rowan Ramsey",
            "Scott Buchholz",
            "Amanda Rishworth",
            "Rick Wilson",
            "Luke Gosling",
            "Rob Mitchell",
            "Sussan Ley",
            "Brian Mitchell",
            "Ken Wyatt",
            "Julie Owens",
            "Angie Bell",
            "Mark Dreyfus",
            "Bridget Archer",
            "Nola Marino",
            "Alex Hawke",
            "Peta Murphy",
            "David Coleman",
            "Dan Tehan",
            "Michael Mccormack",
            "Richard Marles",
            "Russell Broadbent",
            "Ben Morton",
            "Emma Mcbride",
            "Ross Vasta",
            "Kevin Andrews",
            "Phillip Thompson",
            "Pat Conroy",
            "Warren Entsch",
            "Mark Butler",
            "Stephen Jones",
            "Steve Irons",
            "Michael Sukkar",
            "Vince Connelly",
            "Peter Dutton",
            "Scott Morrison",
            "Darren Chester",
            "Anika Wells",
            "Gladys Liu",
            "Angus Taylor",
            "Llew O'brien",
            "Joel Fitzgibbon",
            "Linda Burney",
            "Karen Andrews",
            "Andrew Wallace",
            "Andrew Gee",
            "James Stevens",
            "Patrick Gorman",
            "Celia Hammond",
            "Ted O'brien",
            "Graham Perrett",
            "Andrew Leigh",
            "Tim Watts",
            "Barnaby Joyce",
            "Tony Smith",
            "Kate Thwaites",
            "Craig Kelly",
            "Fiona Martin",
            "Greg Hunt",
            "Lucy Wicks",
            "Josh Wilson",
            "Julie Collins",
            "Sharon Bird",
            "Bill Shorten",
            "Catherine King",
            "David Gillespie",
            "Terri Butler",
            "Julian Leeser",
            "Andrew Wilkie",
            "Kevin Hogan",
            "Julian Simmonds",
            "Nicolle Flint",
            "Lisa Chesters",
            "John Alexander",
            "David Smith",
            "Steve Georganas",
            "Tim Wilson",
            "Josh Frydenberg",
            "Rebekha Sharkie",
            "Libby Coker",
            "Helen Haines",
            "Sharon Claydon",
            "Fiona Phillips",
            "Matt Thistlethwaite",
            "Pat Conaghan",
            "Katie Allen",
            "Josh Burns",
            "Susan Templeman",
            "Mike Kelly",
            "Paul Fletcher",
            "Peter Khalil",
            "Ged Kearney",
            "Justine Elliot",
            "Trevor Evans",
            "Jason Falinski",
            "Alicia Payne",
            "Trent Zimmerman",
            "Anthony Albanese",
            "Dave Sharma",
            "Adam Bandt",
            "Tanya Plibersek",
            "Zali Steggall"
           ],
           [
            "ALP",
            "ALP",
            "ALP",
            "ALP",
            "ALP",
            "ALP",
            "ALP",
            "ALP",
            "LNP",
            "ALP",
            "ALP",
            "ALP",
            "ALP",
            "ALP",
            "ALP",
            "ALP",
            "ALP",
            "LNP",
            "LP",
            "LNP",
            "ALP",
            "LNP",
            "LNP",
            "ALP",
            "ALP",
            "LNP",
            "LNP",
            "LP",
            "ALP",
            "NP",
            "LNP",
            "NP",
            "NP",
            "ALP",
            "LP",
            "LP",
            "ALP",
            "LNP",
            "LP",
            "LP",
            "ALP",
            "LP",
            "LNP",
            "LP",
            "ALP",
            "ALP",
            "LP",
            "LNP",
            "ALP",
            "LNP",
            "LP",
            "LNP",
            "ALP",
            "LP",
            "ALP",
            "ALP",
            "LP",
            "ALP",
            "LP",
            "ALP",
            "LNP",
            "ALP",
            "LP",
            "LP",
            "LP",
            "ALP",
            "LP",
            "LP",
            "NP",
            "ALP",
            "LP",
            "LP",
            "ALP",
            "LNP",
            "LP",
            "LNP",
            "ALP",
            "LNP",
            "ALP",
            "ALP",
            "LP",
            "LP",
            "LP",
            "LNP",
            "LP",
            "NP",
            "ALP",
            "LP",
            "LP",
            "LNP",
            "ALP",
            "ALP",
            "LNP",
            "LNP",
            "NP",
            "LP",
            "ALP",
            "LP",
            "LNP",
            "ALP",
            "ALP",
            "ALP",
            "NP",
            "LP",
            "ALP",
            "LP",
            "LP",
            "LP",
            "LP",
            "ALP",
            "ALP",
            "ALP",
            "ALP",
            "ALP",
            "NP",
            "ALP",
            "LP",
            "ALP",
            "NP",
            "LNP",
            "LP",
            "ALP",
            "LP",
            "ALP",
            "ALP",
            "LP",
            "LP",
            "LP",
            "ALP",
            "LP",
            "ALP",
            "ALP",
            "ALP",
            "NP",
            "LP",
            "ALP",
            "ALP",
            "ALP",
            "LP",
            "ALP",
            "ALP",
            "ALP",
            "LNP",
            "LP",
            "ALP",
            "LP",
            "ALP",
            "LP",
            "ALP",
            "ALP",
            "LP"
           ],
           [
            1.24,
            3.13,
            5.47,
            3.5,
            2.73,
            -0.1,
            0.93,
            5.61,
            7.62,
            2.12,
            -2.08,
            1.78,
            3.04,
            6.82,
            -0.15,
            4.76,
            4.86,
            11.72,
            3.89,
            6.12,
            4.77,
            7.77,
            4.07,
            1.07,
            3.51,
            7.88,
            7.97,
            6.15,
            -0.07,
            -2.49,
            11.24,
            -3.57,
            1.81,
            2.73,
            1.27,
            5.07,
            -1.7,
            2.94,
            4.76,
            0.63,
            4.06,
            4.82,
            6.75,
            2.72,
            2.62,
            6.93,
            3.7,
            5.17,
            5.7,
            3.17,
            5.57,
            4.96,
            1.61,
            -0.56,
            3.01,
            0.98,
            -0.7,
            -1.35,
            3.34,
            4.17,
            0.75,
            -3.45,
            5.83,
            2,
            0.81,
            -1.71,
            4.82,
            1.23,
            3.04,
            -2.12,
            -0.15,
            0.4,
            3.31,
            4.02,
            -0.28,
            8.38,
            5.49,
            0.22,
            1.89,
            39.09,
            -0.9,
            -1.66,
            -0.47,
            2.95,
            3.63,
            -1.54,
            5.04,
            -2.34,
            2.81,
            4.96,
            9.48,
            -1.11,
            0.56,
            3.55,
            1.48,
            1.48,
            -1.6,
            -6.37,
            2.57,
            2.12,
            1.28,
            0.29,
            1.21,
            0.1,
            -0.97,
            0.52,
            -1.51,
            -1.37,
            3.1,
            0.6,
            -1.48,
            -0.09,
            -0.8,
            -3.62,
            3.54,
            -1.43,
            -0.8,
            -0.84,
            7.15,
            -2.95,
            -1.33,
            -5.17,
            -2.81,
            1.33,
            0.12,
            -4.89,
            -6.14,
            -0.73,
            -1.04,
            7.72,
            0.01,
            -3.34,
            -0.24,
            -0.7,
            -6.09,
            -5.04,
            2,
            2.08,
            -4.48,
            -4.18,
            -4.23,
            -0.12,
            -1.08,
            -2.52,
            -4.14,
            -4.34,
            -1.47,
            -7.9,
            -0.06,
            -3.36,
            -8.97
           ],
           [
            17.4,
            30.72,
            13.28,
            27.98,
            10.94,
            28.3,
            37.6,
            28.36,
            17.32,
            9.98,
            43.32,
            24.82,
            28.26,
            24.74,
            1.66,
            29.44,
            12.88,
            24.7,
            15.04,
            29,
            13.32,
            29.02,
            6.56,
            19.44,
            5.6,
            50.84,
            17.2,
            10.08,
            16.8,
            40.06,
            29.22,
            32.46,
            33.82,
            10.92,
            8.98,
            37.88,
            11.82,
            28.36,
            23.1,
            23.3,
            27.04,
            6.18,
            16.8,
            20.26,
            12.78,
            2.42,
            29.52,
            40.96,
            10.08,
            20.48,
            26.64,
            29.16,
            23.88,
            28.96,
            6.16,
            10.04,
            39.66,
            10.36,
            10.78,
            7,
            30.72,
            12.86,
            0.82,
            29.12,
            37.26,
            5.48,
            12.52,
            20.76,
            38.96,
            20.64,
            14.72,
            22.94,
            3,
            14.82,
            15.06,
            16.72,
            8.9,
            8.34,
            13.08,
            21.82,
            5.38,
            9.56,
            11.3,
            9.28,
            38.04,
            33.34,
            1.28,
            1.14,
            25.98,
            26.3,
            5.96,
            18.82,
            24.4,
            25.4,
            26.58,
            13.74,
            9.86,
            28.66,
            26.88,
            3.8,
            21.12,
            29.66,
            35.26,
            9.28,
            13.14,
            19.7,
            6.36,
            11.28,
            8.48,
            13.84,
            24.42,
            26.82,
            22.4,
            21.96,
            30.34,
            5.72,
            31.3,
            32.34,
            18.9,
            12.06,
            2.76,
            18.08,
            13.82,
            15.04,
            16.36,
            15.58,
            13.36,
            5.08,
            2.14,
            25.46,
            27.66,
            5.22,
            17.62,
            23.76,
            7.76,
            12.5,
            0.38,
            1.7,
            33.12,
            51.7,
            52.64,
            8.16,
            9.84,
            26.44,
            34.16,
            18.54,
            47.66,
            19.7,
            34.12,
            37.34,
            4.24
           ],
           [
            28,
            30,
            30,
            37,
            42,
            42,
            46,
            46,
            48,
            55,
            60,
            66,
            66,
            69,
            69,
            72,
            74,
            75,
            79,
            83,
            85,
            89,
            92,
            93,
            93,
            97,
            97,
            98,
            100,
            105,
            110,
            113,
            115,
            119,
            122,
            122,
            124,
            125,
            126,
            129,
            131,
            134,
            137,
            138,
            147,
            147,
            148,
            157,
            162,
            163,
            163,
            163,
            165,
            169,
            171,
            172,
            176,
            177,
            178,
            181,
            184,
            188,
            192,
            193,
            194,
            197,
            198,
            202,
            215,
            215,
            228,
            230,
            232,
            237,
            238,
            240,
            244,
            248,
            248,
            251,
            254,
            260,
            262,
            267,
            270,
            273,
            273,
            275,
            283,
            285,
            293,
            304,
            306,
            310,
            311,
            314,
            323,
            326,
            332,
            336,
            339,
            341,
            362,
            363,
            372,
            388,
            388,
            389,
            394,
            395,
            399,
            401,
            403,
            406,
            419,
            432,
            439,
            466,
            475,
            478,
            483,
            492,
            504,
            511,
            516,
            517,
            521,
            541,
            554,
            574,
            575,
            592,
            602,
            604,
            617,
            629,
            636,
            662,
            674,
            717,
            773,
            840,
            960,
            1073,
            1200,
            1290,
            1349,
            1392,
            1530,
            1836,
            3884
           ],
           [
            0.03,
            0.03,
            0.04,
            0.04,
            0.04,
            0.05,
            0.05,
            0.05,
            0.05,
            0.06,
            0.07,
            0.07,
            0.06,
            0.08,
            0.08,
            0.09,
            0.09,
            0.08,
            0.08,
            0.09,
            0.1,
            0.1,
            0.09,
            0.09,
            0.1,
            0.1,
            0.11,
            0.1,
            0.1,
            0.11,
            0.12,
            0.12,
            0.12,
            0.25,
            0.12,
            0.12,
            0.13,
            0.13,
            0.14,
            0.15,
            0.16,
            0.19,
            0.13,
            0.14,
            0.16,
            0.15,
            0.19,
            0.16,
            0.15,
            0.17,
            0.16,
            0.17,
            0.16,
            0.2,
            0.31,
            0.18,
            0.18,
            0.25,
            0.21,
            0.21,
            0.2,
            0.19,
            0.28,
            0.21,
            0.2,
            0.2,
            0.22,
            0.19,
            0.21,
            0.22,
            0.23,
            0.28,
            0.23,
            0.25,
            0.24,
            0.26,
            0.24,
            0.28,
            0.23,
            0.24,
            0.3,
            0.27,
            0.3,
            0.28,
            0.29,
            0.28,
            0.28,
            0.29,
            0.28,
            0.3,
            0.29,
            0.34,
            0.33,
            0.31,
            0.3,
            0.29,
            0.37,
            0.37,
            0.34,
            0.37,
            0.39,
            0.35,
            0.37,
            0.36,
            0.38,
            0.41,
            0.41,
            0.4,
            0.41,
            0.43,
            0.57,
            0.4,
            0.4,
            0.4,
            0.41,
            0.43,
            0.47,
            0.69,
            0.44,
            0.5,
            0.44,
            0.48,
            0.52,
            0.55,
            0.48,
            0.52,
            0.53,
            0.48,
            0.55,
            0.57,
            0.56,
            0.55,
            0.64,
            0.57,
            0.61,
            0.65,
            0.66,
            0.67,
            0.7,
            0.75,
            0.79,
            0.84,
            0.94,
            1.09,
            1.39,
            1.33,
            1.41,
            1.55,
            1.64,
            1.94,
            4.22
           ]
          ]
         },
         "header": {
          "align": "left",
          "fill": {
           "color": "paleturquoise"
          },
          "values": [
           "Electorate",
           "State",
           "Name",
           "Party",
           "Swing 2019",
           "Margin 2019",
           "Climate Votes",
           "Climate Participation %"
          ]
         },
         "type": "table"
        }
       ],
       "layout": {
        "template": {
         "data": {
          "bar": [
           {
            "error_x": {
             "color": "#2a3f5f"
            },
            "error_y": {
             "color": "#2a3f5f"
            },
            "marker": {
             "line": {
              "color": "#E5ECF6",
              "width": 0.5
             }
            },
            "type": "bar"
           }
          ],
          "barpolar": [
           {
            "marker": {
             "line": {
              "color": "#E5ECF6",
              "width": 0.5
             }
            },
            "type": "barpolar"
           }
          ],
          "carpet": [
           {
            "aaxis": {
             "endlinecolor": "#2a3f5f",
             "gridcolor": "white",
             "linecolor": "white",
             "minorgridcolor": "white",
             "startlinecolor": "#2a3f5f"
            },
            "baxis": {
             "endlinecolor": "#2a3f5f",
             "gridcolor": "white",
             "linecolor": "white",
             "minorgridcolor": "white",
             "startlinecolor": "#2a3f5f"
            },
            "type": "carpet"
           }
          ],
          "choropleth": [
           {
            "colorbar": {
             "outlinewidth": 0,
             "ticks": ""
            },
            "type": "choropleth"
           }
          ],
          "contour": [
           {
            "colorbar": {
             "outlinewidth": 0,
             "ticks": ""
            },
            "colorscale": [
             [
              0,
              "#0d0887"
             ],
             [
              0.1111111111111111,
              "#46039f"
             ],
             [
              0.2222222222222222,
              "#7201a8"
             ],
             [
              0.3333333333333333,
              "#9c179e"
             ],
             [
              0.4444444444444444,
              "#bd3786"
             ],
             [
              0.5555555555555556,
              "#d8576b"
             ],
             [
              0.6666666666666666,
              "#ed7953"
             ],
             [
              0.7777777777777778,
              "#fb9f3a"
             ],
             [
              0.8888888888888888,
              "#fdca26"
             ],
             [
              1,
              "#f0f921"
             ]
            ],
            "type": "contour"
           }
          ],
          "contourcarpet": [
           {
            "colorbar": {
             "outlinewidth": 0,
             "ticks": ""
            },
            "type": "contourcarpet"
           }
          ],
          "heatmap": [
           {
            "colorbar": {
             "outlinewidth": 0,
             "ticks": ""
            },
            "colorscale": [
             [
              0,
              "#0d0887"
             ],
             [
              0.1111111111111111,
              "#46039f"
             ],
             [
              0.2222222222222222,
              "#7201a8"
             ],
             [
              0.3333333333333333,
              "#9c179e"
             ],
             [
              0.4444444444444444,
              "#bd3786"
             ],
             [
              0.5555555555555556,
              "#d8576b"
             ],
             [
              0.6666666666666666,
              "#ed7953"
             ],
             [
              0.7777777777777778,
              "#fb9f3a"
             ],
             [
              0.8888888888888888,
              "#fdca26"
             ],
             [
              1,
              "#f0f921"
             ]
            ],
            "type": "heatmap"
           }
          ],
          "heatmapgl": [
           {
            "colorbar": {
             "outlinewidth": 0,
             "ticks": ""
            },
            "colorscale": [
             [
              0,
              "#0d0887"
             ],
             [
              0.1111111111111111,
              "#46039f"
             ],
             [
              0.2222222222222222,
              "#7201a8"
             ],
             [
              0.3333333333333333,
              "#9c179e"
             ],
             [
              0.4444444444444444,
              "#bd3786"
             ],
             [
              0.5555555555555556,
              "#d8576b"
             ],
             [
              0.6666666666666666,
              "#ed7953"
             ],
             [
              0.7777777777777778,
              "#fb9f3a"
             ],
             [
              0.8888888888888888,
              "#fdca26"
             ],
             [
              1,
              "#f0f921"
             ]
            ],
            "type": "heatmapgl"
           }
          ],
          "histogram": [
           {
            "marker": {
             "colorbar": {
              "outlinewidth": 0,
              "ticks": ""
             }
            },
            "type": "histogram"
           }
          ],
          "histogram2d": [
           {
            "colorbar": {
             "outlinewidth": 0,
             "ticks": ""
            },
            "colorscale": [
             [
              0,
              "#0d0887"
             ],
             [
              0.1111111111111111,
              "#46039f"
             ],
             [
              0.2222222222222222,
              "#7201a8"
             ],
             [
              0.3333333333333333,
              "#9c179e"
             ],
             [
              0.4444444444444444,
              "#bd3786"
             ],
             [
              0.5555555555555556,
              "#d8576b"
             ],
             [
              0.6666666666666666,
              "#ed7953"
             ],
             [
              0.7777777777777778,
              "#fb9f3a"
             ],
             [
              0.8888888888888888,
              "#fdca26"
             ],
             [
              1,
              "#f0f921"
             ]
            ],
            "type": "histogram2d"
           }
          ],
          "histogram2dcontour": [
           {
            "colorbar": {
             "outlinewidth": 0,
             "ticks": ""
            },
            "colorscale": [
             [
              0,
              "#0d0887"
             ],
             [
              0.1111111111111111,
              "#46039f"
             ],
             [
              0.2222222222222222,
              "#7201a8"
             ],
             [
              0.3333333333333333,
              "#9c179e"
             ],
             [
              0.4444444444444444,
              "#bd3786"
             ],
             [
              0.5555555555555556,
              "#d8576b"
             ],
             [
              0.6666666666666666,
              "#ed7953"
             ],
             [
              0.7777777777777778,
              "#fb9f3a"
             ],
             [
              0.8888888888888888,
              "#fdca26"
             ],
             [
              1,
              "#f0f921"
             ]
            ],
            "type": "histogram2dcontour"
           }
          ],
          "mesh3d": [
           {
            "colorbar": {
             "outlinewidth": 0,
             "ticks": ""
            },
            "type": "mesh3d"
           }
          ],
          "parcoords": [
           {
            "line": {
             "colorbar": {
              "outlinewidth": 0,
              "ticks": ""
             }
            },
            "type": "parcoords"
           }
          ],
          "pie": [
           {
            "automargin": true,
            "type": "pie"
           }
          ],
          "scatter": [
           {
            "marker": {
             "colorbar": {
              "outlinewidth": 0,
              "ticks": ""
             }
            },
            "type": "scatter"
           }
          ],
          "scatter3d": [
           {
            "line": {
             "colorbar": {
              "outlinewidth": 0,
              "ticks": ""
             }
            },
            "marker": {
             "colorbar": {
              "outlinewidth": 0,
              "ticks": ""
             }
            },
            "type": "scatter3d"
           }
          ],
          "scattercarpet": [
           {
            "marker": {
             "colorbar": {
              "outlinewidth": 0,
              "ticks": ""
             }
            },
            "type": "scattercarpet"
           }
          ],
          "scattergeo": [
           {
            "marker": {
             "colorbar": {
              "outlinewidth": 0,
              "ticks": ""
             }
            },
            "type": "scattergeo"
           }
          ],
          "scattergl": [
           {
            "marker": {
             "colorbar": {
              "outlinewidth": 0,
              "ticks": ""
             }
            },
            "type": "scattergl"
           }
          ],
          "scattermapbox": [
           {
            "marker": {
             "colorbar": {
              "outlinewidth": 0,
              "ticks": ""
             }
            },
            "type": "scattermapbox"
           }
          ],
          "scatterpolar": [
           {
            "marker": {
             "colorbar": {
              "outlinewidth": 0,
              "ticks": ""
             }
            },
            "type": "scatterpolar"
           }
          ],
          "scatterpolargl": [
           {
            "marker": {
             "colorbar": {
              "outlinewidth": 0,
              "ticks": ""
             }
            },
            "type": "scatterpolargl"
           }
          ],
          "scatterternary": [
           {
            "marker": {
             "colorbar": {
              "outlinewidth": 0,
              "ticks": ""
             }
            },
            "type": "scatterternary"
           }
          ],
          "surface": [
           {
            "colorbar": {
             "outlinewidth": 0,
             "ticks": ""
            },
            "colorscale": [
             [
              0,
              "#0d0887"
             ],
             [
              0.1111111111111111,
              "#46039f"
             ],
             [
              0.2222222222222222,
              "#7201a8"
             ],
             [
              0.3333333333333333,
              "#9c179e"
             ],
             [
              0.4444444444444444,
              "#bd3786"
             ],
             [
              0.5555555555555556,
              "#d8576b"
             ],
             [
              0.6666666666666666,
              "#ed7953"
             ],
             [
              0.7777777777777778,
              "#fb9f3a"
             ],
             [
              0.8888888888888888,
              "#fdca26"
             ],
             [
              1,
              "#f0f921"
             ]
            ],
            "type": "surface"
           }
          ],
          "table": [
           {
            "cells": {
             "fill": {
              "color": "#EBF0F8"
             },
             "line": {
              "color": "white"
             }
            },
            "header": {
             "fill": {
              "color": "#C8D4E3"
             },
             "line": {
              "color": "white"
             }
            },
            "type": "table"
           }
          ]
         },
         "layout": {
          "annotationdefaults": {
           "arrowcolor": "#2a3f5f",
           "arrowhead": 0,
           "arrowwidth": 1
          },
          "coloraxis": {
           "colorbar": {
            "outlinewidth": 0,
            "ticks": ""
           }
          },
          "colorscale": {
           "diverging": [
            [
             0,
             "#8e0152"
            ],
            [
             0.1,
             "#c51b7d"
            ],
            [
             0.2,
             "#de77ae"
            ],
            [
             0.3,
             "#f1b6da"
            ],
            [
             0.4,
             "#fde0ef"
            ],
            [
             0.5,
             "#f7f7f7"
            ],
            [
             0.6,
             "#e6f5d0"
            ],
            [
             0.7,
             "#b8e186"
            ],
            [
             0.8,
             "#7fbc41"
            ],
            [
             0.9,
             "#4d9221"
            ],
            [
             1,
             "#276419"
            ]
           ],
           "sequential": [
            [
             0,
             "#0d0887"
            ],
            [
             0.1111111111111111,
             "#46039f"
            ],
            [
             0.2222222222222222,
             "#7201a8"
            ],
            [
             0.3333333333333333,
             "#9c179e"
            ],
            [
             0.4444444444444444,
             "#bd3786"
            ],
            [
             0.5555555555555556,
             "#d8576b"
            ],
            [
             0.6666666666666666,
             "#ed7953"
            ],
            [
             0.7777777777777778,
             "#fb9f3a"
            ],
            [
             0.8888888888888888,
             "#fdca26"
            ],
            [
             1,
             "#f0f921"
            ]
           ],
           "sequentialminus": [
            [
             0,
             "#0d0887"
            ],
            [
             0.1111111111111111,
             "#46039f"
            ],
            [
             0.2222222222222222,
             "#7201a8"
            ],
            [
             0.3333333333333333,
             "#9c179e"
            ],
            [
             0.4444444444444444,
             "#bd3786"
            ],
            [
             0.5555555555555556,
             "#d8576b"
            ],
            [
             0.6666666666666666,
             "#ed7953"
            ],
            [
             0.7777777777777778,
             "#fb9f3a"
            ],
            [
             0.8888888888888888,
             "#fdca26"
            ],
            [
             1,
             "#f0f921"
            ]
           ]
          },
          "colorway": [
           "#636efa",
           "#EF553B",
           "#00cc96",
           "#ab63fa",
           "#FFA15A",
           "#19d3f3",
           "#FF6692",
           "#B6E880",
           "#FF97FF",
           "#FECB52"
          ],
          "font": {
           "color": "#2a3f5f"
          },
          "geo": {
           "bgcolor": "white",
           "lakecolor": "white",
           "landcolor": "#E5ECF6",
           "showlakes": true,
           "showland": true,
           "subunitcolor": "white"
          },
          "hoverlabel": {
           "align": "left"
          },
          "hovermode": "closest",
          "mapbox": {
           "style": "light"
          },
          "paper_bgcolor": "white",
          "plot_bgcolor": "#E5ECF6",
          "polar": {
           "angularaxis": {
            "gridcolor": "white",
            "linecolor": "white",
            "ticks": ""
           },
           "bgcolor": "#E5ECF6",
           "radialaxis": {
            "gridcolor": "white",
            "linecolor": "white",
            "ticks": ""
           }
          },
          "scene": {
           "xaxis": {
            "backgroundcolor": "#E5ECF6",
            "gridcolor": "white",
            "gridwidth": 2,
            "linecolor": "white",
            "showbackground": true,
            "ticks": "",
            "zerolinecolor": "white"
           },
           "yaxis": {
            "backgroundcolor": "#E5ECF6",
            "gridcolor": "white",
            "gridwidth": 2,
            "linecolor": "white",
            "showbackground": true,
            "ticks": "",
            "zerolinecolor": "white"
           },
           "zaxis": {
            "backgroundcolor": "#E5ECF6",
            "gridcolor": "white",
            "gridwidth": 2,
            "linecolor": "white",
            "showbackground": true,
            "ticks": "",
            "zerolinecolor": "white"
           }
          },
          "shapedefaults": {
           "line": {
            "color": "#2a3f5f"
           }
          },
          "ternary": {
           "aaxis": {
            "gridcolor": "white",
            "linecolor": "white",
            "ticks": ""
           },
           "baxis": {
            "gridcolor": "white",
            "linecolor": "white",
            "ticks": ""
           },
           "bgcolor": "#E5ECF6",
           "caxis": {
            "gridcolor": "white",
            "linecolor": "white",
            "ticks": ""
           }
          },
          "title": {
           "x": 0.05
          },
          "xaxis": {
           "automargin": true,
           "gridcolor": "white",
           "linecolor": "white",
           "ticks": "",
           "title": {
            "standoff": 15
           },
           "zerolinecolor": "white",
           "zerolinewidth": 2
          },
          "yaxis": {
           "automargin": true,
           "gridcolor": "white",
           "linecolor": "white",
           "ticks": "",
           "title": {
            "standoff": 15
           },
           "zerolinecolor": "white",
           "zerolinewidth": 2
          }
         }
        }
       }
      },
      "text/html": [
       "<div>\n",
       "        \n",
       "        \n",
       "            <div id=\"94c88349-7942-4192-9c9d-8f56f0494d3c\" class=\"plotly-graph-div\" style=\"height:525px; width:100%;\"></div>\n",
       "            <script type=\"text/javascript\">\n",
       "                require([\"plotly\"], function(Plotly) {\n",
       "                    window.PLOTLYENV=window.PLOTLYENV || {};\n",
       "                    \n",
       "                if (document.getElementById(\"94c88349-7942-4192-9c9d-8f56f0494d3c\")) {\n",
       "                    Plotly.newPlot(\n",
       "                        '94c88349-7942-4192-9c9d-8f56f0494d3c',\n",
       "                        [{\"cells\": {\"align\": \"left\", \"fill\": {\"color\": \"lavender\"}, \"values\": [[\"Holt\", \"Gorton\", \"McMahon\", \"Fowler\", \"Werriwa\", \"Bruce\", \"Calwell\", \"Fraser\", \"Flynn\", \"Burt\", \"Scullin\", \"Lalor\", \"Spence\", \"Chifley\", \"Cowan\", \"Blaxland\", \"Rankin\", \"Capricornia\", \"Pearce\", \"Hinkler\", \"Brand\", \"Kennedy\", \"Longman\", \"Makin\", \"Greenway\", \"Maranoa\", \"Forde\", \"Lindsay\", \"Macarthur\", \"Nicholls\", \"Dawson\", \"Mallee\", \"Parkes\", \"Lingiari\", \"La Trobe\", \"Barker\", \"Hotham\", \"Fadden\", \"Canning\", \"Moore\", \"Watson\", \"Braddon\", \"Petrie\", \"Aston\", \"Oxley\", \"Blair\", \"Durack\", \"Groom\", \"Paterson\", \"Bowman\", \"Grey\", \"Wright\", \"Kingston\", \"O'Connor\", \"Solomon\", \"McEwen\", \"Farrer\", \"Lyons\", \"Hasluck\", \"Parramatta\", \"Moncrieff\", \"Isaacs\", \"Bass\", \"Forrest\", \"Mitchell\", \"Dunkley\", \"Banks\", \"Wannon\", \"Riverina\", \"Corio\", \"Monash\", \"Tangney\", \"Dobell\", \"Bonner\", \"Menzies\", \"Herbert\", \"Shortland\", \"Leichhardt\", \"Hindmarsh\", \"Whitlam\", \"Swan\", \"Deakin\", \"Stirling\", \"Dickson\", \"Cook\", \"Gippsland\", \"Lilley\", \"Chisholm\", \"Hume\", \"Wide Bay\", \"Hunter\", \"Barton\", \"McPherson\", \"Fisher\", \"Calare\", \"Sturt\", \"Perth\", \"Curtin\", \"Fairfax\", \"Moreton\", \"Fenner\", \"Gellibrand\", \"New England\", \"Casey\", \"Jagajaga\", \"Hughes\", \"Reid\", \"Flinders\", \"Robertson\", \"Fremantle\", \"Franklin\", \"Cunningham\", \"Maribyrnong\", \"Ballarat\", \"Lyne\", \"Griffith\", \"Berowra\", \"Clark\", \"Page\", \"Ryan\", \"Boothby\", \"Bendigo\", \"Bennelong\", \"Bean\", \"Adelaide\", \"Goldstein\", \"Kooyong\", \"Mayo\", \"Corangamite\", \"Indi\", \"Newcastle\", \"Gilmore\", \"Kingsford Smith\", \"Cowper\", \"Higgins\", \"Macnamara\", \"Macquarie\", \"Eden-Monaro\", \"Bradfield\", \"Wills\", \"Cooper\", \"Richmond\", \"Brisbane\", \"Mackellar\", \"Canberra\", \"North Sydney\", \"Grayndler\", \"Wentworth\", \"Melbourne\", \"Sydney\", \"Warringah\"], [\"VIC\", \"VIC\", \"NSW\", \"NSW\", \"NSW\", \"VIC\", \"VIC\", \"VIC\", \"QLD\", \"WA\", \"VIC\", \"VIC\", \"SA\", \"NSW\", \"WA\", \"NSW\", \"QLD\", \"QLD\", \"WA\", \"QLD\", \"WA\", \"QLD\", \"QLD\", \"SA\", \"NSW\", \"QLD\", \"QLD\", \"NSW\", \"NSW\", \"VIC\", \"QLD\", \"VIC\", \"NSW\", \"NT\", \"VIC\", \"SA\", \"VIC\", \"QLD\", \"WA\", \"WA\", \"NSW\", \"TAS\", \"QLD\", \"VIC\", \"QLD\", \"QLD\", \"WA\", \"QLD\", \"NSW\", \"QLD\", \"SA\", \"QLD\", \"SA\", \"WA\", \"NT\", \"VIC\", \"NSW\", \"TAS\", \"WA\", \"NSW\", \"QLD\", \"VIC\", \"TAS\", \"WA\", \"NSW\", \"VIC\", \"NSW\", \"VIC\", \"NSW\", \"VIC\", \"VIC\", \"WA\", \"NSW\", \"QLD\", \"VIC\", \"QLD\", \"NSW\", \"QLD\", \"SA\", \"NSW\", \"WA\", \"VIC\", \"WA\", \"QLD\", \"NSW\", \"VIC\", \"QLD\", \"VIC\", \"NSW\", \"QLD\", \"NSW\", \"NSW\", \"QLD\", \"QLD\", \"NSW\", \"SA\", \"WA\", \"WA\", \"QLD\", \"QLD\", \"ACT\", \"VIC\", \"NSW\", \"VIC\", \"VIC\", \"NSW\", \"NSW\", \"VIC\", \"NSW\", \"WA\", \"TAS\", \"NSW\", \"VIC\", \"VIC\", \"NSW\", \"QLD\", \"NSW\", \"TAS\", \"NSW\", \"QLD\", \"SA\", \"VIC\", \"NSW\", \"ACT\", \"SA\", \"VIC\", \"VIC\", \"SA\", \"VIC\", \"VIC\", \"NSW\", \"NSW\", \"NSW\", \"NSW\", \"VIC\", \"VIC\", \"NSW\", \"NSW\", \"NSW\", \"VIC\", \"VIC\", \"NSW\", \"QLD\", \"NSW\", \"ACT\", \"NSW\", \"NSW\", \"NSW\", \"VIC\", \"NSW\", \"NSW\"], [\"Anthony Byrne\", \"Brendan O'connor\", \"Chris Bowen\", \"Chris Hayes\", \"Anne Stanley\", \"Julian Hill\", \"Maria Vamvakinou\", \"Daniel Mulino\", \"Ken O'dowd\", \"Matt Keogh\", \"Andrew Giles\", \"Joanne Ryan\", \"Nick Champion\", \"Ed Husic\", \"Anne Aly\", \"Jason Clare\", \"Jim Chalmers\", \"Michelle Landry\", \"Christian Porter\", \"Keith Pitt\", \"Madeleine King\", \"Bob Katter\", \"Terry Young\", \"Tony Zappia\", \"Michelle Rowland\", \"David Littleproud\", \"Bert Van Manen\", \"Melissa Mcintosh\", \"Mike Freelander\", \"Damian Drum\", \"George Christensen\", \"Anne Webster\", \"Mark Coulton\", \"Warren Snowdon\", \"Jason Wood\", \"Tony Pasin\", \"Clare O'neil\", \"Stuart Robert\", \"Andrew Hastie\", \"Ian Goodenough\", \"Tony Burke\", \"Gavin Pearce\", \"Luke Howarth\", \"Alan Tudge\", \"Milton Dick\", \"Shayne Neumann\", \"Melissa Price\", \"John Mcveigh\", \"Meryl Swanson\", \"Andrew Laming\", \"Rowan Ramsey\", \"Scott Buchholz\", \"Amanda Rishworth\", \"Rick Wilson\", \"Luke Gosling\", \"Rob Mitchell\", \"Sussan Ley\", \"Brian Mitchell\", \"Ken Wyatt\", \"Julie Owens\", \"Angie Bell\", \"Mark Dreyfus\", \"Bridget Archer\", \"Nola Marino\", \"Alex Hawke\", \"Peta Murphy\", \"David Coleman\", \"Dan Tehan\", \"Michael Mccormack\", \"Richard Marles\", \"Russell Broadbent\", \"Ben Morton\", \"Emma Mcbride\", \"Ross Vasta\", \"Kevin Andrews\", \"Phillip Thompson\", \"Pat Conroy\", \"Warren Entsch\", \"Mark Butler\", \"Stephen Jones\", \"Steve Irons\", \"Michael Sukkar\", \"Vince Connelly\", \"Peter Dutton\", \"Scott Morrison\", \"Darren Chester\", \"Anika Wells\", \"Gladys Liu\", \"Angus Taylor\", \"Llew O'brien\", \"Joel Fitzgibbon\", \"Linda Burney\", \"Karen Andrews\", \"Andrew Wallace\", \"Andrew Gee\", \"James Stevens\", \"Patrick Gorman\", \"Celia Hammond\", \"Ted O'brien\", \"Graham Perrett\", \"Andrew Leigh\", \"Tim Watts\", \"Barnaby Joyce\", \"Tony Smith\", \"Kate Thwaites\", \"Craig Kelly\", \"Fiona Martin\", \"Greg Hunt\", \"Lucy Wicks\", \"Josh Wilson\", \"Julie Collins\", \"Sharon Bird\", \"Bill Shorten\", \"Catherine King\", \"David Gillespie\", \"Terri Butler\", \"Julian Leeser\", \"Andrew Wilkie\", \"Kevin Hogan\", \"Julian Simmonds\", \"Nicolle Flint\", \"Lisa Chesters\", \"John Alexander\", \"David Smith\", \"Steve Georganas\", \"Tim Wilson\", \"Josh Frydenberg\", \"Rebekha Sharkie\", \"Libby Coker\", \"Helen Haines\", \"Sharon Claydon\", \"Fiona Phillips\", \"Matt Thistlethwaite\", \"Pat Conaghan\", \"Katie Allen\", \"Josh Burns\", \"Susan Templeman\", \"Mike Kelly\", \"Paul Fletcher\", \"Peter Khalil\", \"Ged Kearney\", \"Justine Elliot\", \"Trevor Evans\", \"Jason Falinski\", \"Alicia Payne\", \"Trent Zimmerman\", \"Anthony Albanese\", \"Dave Sharma\", \"Adam Bandt\", \"Tanya Plibersek\", \"Zali Steggall\"], [\"ALP\", \"ALP\", \"ALP\", \"ALP\", \"ALP\", \"ALP\", \"ALP\", \"ALP\", \"LNP\", \"ALP\", \"ALP\", \"ALP\", \"ALP\", \"ALP\", \"ALP\", \"ALP\", \"ALP\", \"LNP\", \"LP\", \"LNP\", \"ALP\", \"LNP\", \"LNP\", \"ALP\", \"ALP\", \"LNP\", \"LNP\", \"LP\", \"ALP\", \"NP\", \"LNP\", \"NP\", \"NP\", \"ALP\", \"LP\", \"LP\", \"ALP\", \"LNP\", \"LP\", \"LP\", \"ALP\", \"LP\", \"LNP\", \"LP\", \"ALP\", \"ALP\", \"LP\", \"LNP\", \"ALP\", \"LNP\", \"LP\", \"LNP\", \"ALP\", \"LP\", \"ALP\", \"ALP\", \"LP\", \"ALP\", \"LP\", \"ALP\", \"LNP\", \"ALP\", \"LP\", \"LP\", \"LP\", \"ALP\", \"LP\", \"LP\", \"NP\", \"ALP\", \"LP\", \"LP\", \"ALP\", \"LNP\", \"LP\", \"LNP\", \"ALP\", \"LNP\", \"ALP\", \"ALP\", \"LP\", \"LP\", \"LP\", \"LNP\", \"LP\", \"NP\", \"ALP\", \"LP\", \"LP\", \"LNP\", \"ALP\", \"ALP\", \"LNP\", \"LNP\", \"NP\", \"LP\", \"ALP\", \"LP\", \"LNP\", \"ALP\", \"ALP\", \"ALP\", \"NP\", \"LP\", \"ALP\", \"LP\", \"LP\", \"LP\", \"LP\", \"ALP\", \"ALP\", \"ALP\", \"ALP\", \"ALP\", \"NP\", \"ALP\", \"LP\", \"ALP\", \"NP\", \"LNP\", \"LP\", \"ALP\", \"LP\", \"ALP\", \"ALP\", \"LP\", \"LP\", \"LP\", \"ALP\", \"LP\", \"ALP\", \"ALP\", \"ALP\", \"NP\", \"LP\", \"ALP\", \"ALP\", \"ALP\", \"LP\", \"ALP\", \"ALP\", \"ALP\", \"LNP\", \"LP\", \"ALP\", \"LP\", \"ALP\", \"LP\", \"ALP\", \"ALP\", \"LP\"], [1.24, 3.13, 5.47, 3.5, 2.73, -0.1, 0.93, 5.61, 7.62, 2.12, -2.08, 1.78, 3.04, 6.82, -0.15, 4.76, 4.86, 11.72, 3.89, 6.12, 4.77, 7.77, 4.07, 1.07, 3.51, 7.88, 7.97, 6.15, -0.07, -2.49, 11.24, -3.57, 1.81, 2.73, 1.27, 5.07, -1.7, 2.94, 4.76, 0.63, 4.06, 4.82, 6.75, 2.72, 2.62, 6.93, 3.7, 5.17, 5.7, 3.17, 5.57, 4.96, 1.61, -0.56, 3.01, 0.98, -0.7, -1.35, 3.34, 4.17, 0.75, -3.45, 5.83, 2.0, 0.81, -1.71, 4.82, 1.23, 3.04, -2.12, -0.15, 0.4, 3.31, 4.02, -0.28, 8.38, 5.49, 0.22, 1.89, 39.09, -0.9, -1.66, -0.47, 2.95, 3.63, -1.54, 5.04, -2.34, 2.81, 4.96, 9.48, -1.11, 0.56, 3.55, 1.48, 1.48, -1.6, -6.37, 2.57, 2.12, 1.28, 0.29, 1.21, 0.1, -0.97, 0.52, -1.51, -1.37, 3.1, 0.6, -1.48, -0.09, -0.8, -3.62, 3.54, -1.43, -0.8, -0.84, 7.15, -2.95, -1.33, -5.17, -2.81, 1.33, 0.12, -4.89, -6.14, -0.73, -1.04, 7.72, 0.01, -3.34, -0.24, -0.7, -6.09, -5.04, 2.0, 2.08, -4.48, -4.18, -4.23, -0.12, -1.08, -2.52, -4.14, -4.34, -1.47, -7.9, -0.06, -3.36, -8.97], [17.4, 30.72, 13.28, 27.98, 10.94, 28.3, 37.6, 28.36, 17.32, 9.98, 43.32, 24.82, 28.26, 24.74, 1.66, 29.44, 12.88, 24.7, 15.04, 29.0, 13.32, 29.02, 6.56, 19.44, 5.6, 50.84, 17.2, 10.08, 16.8, 40.06, 29.22, 32.46, 33.82, 10.92, 8.98, 37.88, 11.82, 28.36, 23.1, 23.3, 27.04, 6.18, 16.8, 20.26, 12.78, 2.42, 29.52, 40.96, 10.08, 20.48, 26.64, 29.16, 23.88, 28.96, 6.16, 10.04, 39.66, 10.36, 10.78, 7.0, 30.72, 12.86, 0.82, 29.12, 37.26, 5.48, 12.52, 20.76, 38.96, 20.64, 14.72, 22.94, 3.0, 14.82, 15.06, 16.72, 8.9, 8.34, 13.08, 21.82, 5.38, 9.56, 11.3, 9.28, 38.04, 33.34, 1.28, 1.14, 25.98, 26.3, 5.96, 18.82, 24.4, 25.4, 26.58, 13.74, 9.86, 28.66, 26.88, 3.8, 21.12, 29.66, 35.26, 9.28, 13.14, 19.7, 6.36, 11.28, 8.48, 13.84, 24.42, 26.82, 22.4, 21.96, 30.34, 5.72, 31.3, 32.34, 18.9, 12.06, 2.76, 18.08, 13.82, 15.04, 16.36, 15.58, 13.36, 5.08, 2.14, 25.46, 27.66, 5.22, 17.62, 23.76, 7.76, 12.5, 0.38, 1.7, 33.12, 51.7, 52.64, 8.16, 9.84, 26.44, 34.16, 18.54, 47.66, 19.7, 34.12, 37.34, 4.24], [28, 30, 30, 37, 42, 42, 46, 46, 48, 55, 60, 66, 66, 69, 69, 72, 74, 75, 79, 83, 85, 89, 92, 93, 93, 97, 97, 98, 100, 105, 110, 113, 115, 119, 122, 122, 124, 125, 126, 129, 131, 134, 137, 138, 147, 147, 148, 157, 162, 163, 163, 163, 165, 169, 171, 172, 176, 177, 178, 181, 184, 188, 192, 193, 194, 197, 198, 202, 215, 215, 228, 230, 232, 237, 238, 240, 244, 248, 248, 251, 254, 260, 262, 267, 270, 273, 273, 275, 283, 285, 293, 304, 306, 310, 311, 314, 323, 326, 332, 336, 339, 341, 362, 363, 372, 388, 388, 389, 394, 395, 399, 401, 403, 406, 419, 432, 439, 466, 475, 478, 483, 492, 504, 511, 516, 517, 521, 541, 554, 574, 575, 592, 602, 604, 617, 629, 636, 662, 674, 717, 773, 840, 960, 1073, 1200, 1290, 1349, 1392, 1530, 1836, 3884], [0.03, 0.03, 0.04, 0.04, 0.04, 0.05, 0.05, 0.05, 0.05, 0.06, 0.07, 0.07, 0.06, 0.08, 0.08, 0.09, 0.09, 0.08, 0.08, 0.09, 0.1, 0.1, 0.09, 0.09, 0.1, 0.1, 0.11, 0.1, 0.1, 0.11, 0.12, 0.12, 0.12, 0.25, 0.12, 0.12, 0.13, 0.13, 0.14, 0.15, 0.16, 0.19, 0.13, 0.14, 0.16, 0.15, 0.19, 0.16, 0.15, 0.17, 0.16, 0.17, 0.16, 0.2, 0.31, 0.18, 0.18, 0.25, 0.21, 0.21, 0.2, 0.19, 0.28, 0.21, 0.2, 0.2, 0.22, 0.19, 0.21, 0.22, 0.23, 0.28, 0.23, 0.25, 0.24, 0.26, 0.24, 0.28, 0.23, 0.24, 0.3, 0.27, 0.3, 0.28, 0.29, 0.28, 0.28, 0.29, 0.28, 0.3, 0.29, 0.34, 0.33, 0.31, 0.3, 0.29, 0.37, 0.37, 0.34, 0.37, 0.39, 0.35, 0.37, 0.36, 0.38, 0.41, 0.41, 0.4, 0.41, 0.43, 0.57, 0.4, 0.4, 0.4, 0.41, 0.43, 0.47, 0.69, 0.44, 0.5, 0.44, 0.48, 0.52, 0.55, 0.48, 0.52, 0.53, 0.48, 0.55, 0.57, 0.56, 0.55, 0.64, 0.57, 0.61, 0.65, 0.66, 0.67, 0.7, 0.75, 0.79, 0.84, 0.94, 1.09, 1.39, 1.33, 1.41, 1.55, 1.64, 1.94, 4.22]]}, \"header\": {\"align\": \"left\", \"fill\": {\"color\": \"paleturquoise\"}, \"values\": [\"Electorate\", \"State\", \"Name\", \"Party\", \"Swing 2019\", \"Margin 2019\", \"Climate Votes\", \"Climate Participation %\"]}, \"type\": \"table\"}],\n",
       "                        {\"template\": {\"data\": {\"bar\": [{\"error_x\": {\"color\": \"#2a3f5f\"}, \"error_y\": {\"color\": \"#2a3f5f\"}, \"marker\": {\"line\": {\"color\": \"#E5ECF6\", \"width\": 0.5}}, \"type\": \"bar\"}], \"barpolar\": [{\"marker\": {\"line\": {\"color\": \"#E5ECF6\", \"width\": 0.5}}, \"type\": \"barpolar\"}], \"carpet\": [{\"aaxis\": {\"endlinecolor\": \"#2a3f5f\", \"gridcolor\": \"white\", \"linecolor\": \"white\", \"minorgridcolor\": \"white\", \"startlinecolor\": \"#2a3f5f\"}, \"baxis\": {\"endlinecolor\": \"#2a3f5f\", \"gridcolor\": \"white\", \"linecolor\": \"white\", \"minorgridcolor\": \"white\", \"startlinecolor\": \"#2a3f5f\"}, \"type\": \"carpet\"}], \"choropleth\": [{\"colorbar\": {\"outlinewidth\": 0, \"ticks\": \"\"}, \"type\": \"choropleth\"}], \"contour\": [{\"colorbar\": {\"outlinewidth\": 0, \"ticks\": \"\"}, \"colorscale\": [[0.0, \"#0d0887\"], [0.1111111111111111, \"#46039f\"], [0.2222222222222222, \"#7201a8\"], [0.3333333333333333, \"#9c179e\"], [0.4444444444444444, \"#bd3786\"], [0.5555555555555556, \"#d8576b\"], [0.6666666666666666, \"#ed7953\"], [0.7777777777777778, \"#fb9f3a\"], [0.8888888888888888, \"#fdca26\"], [1.0, \"#f0f921\"]], \"type\": \"contour\"}], \"contourcarpet\": [{\"colorbar\": {\"outlinewidth\": 0, \"ticks\": \"\"}, \"type\": \"contourcarpet\"}], \"heatmap\": [{\"colorbar\": {\"outlinewidth\": 0, \"ticks\": \"\"}, \"colorscale\": [[0.0, \"#0d0887\"], [0.1111111111111111, \"#46039f\"], [0.2222222222222222, \"#7201a8\"], [0.3333333333333333, \"#9c179e\"], [0.4444444444444444, \"#bd3786\"], [0.5555555555555556, \"#d8576b\"], [0.6666666666666666, \"#ed7953\"], [0.7777777777777778, \"#fb9f3a\"], [0.8888888888888888, \"#fdca26\"], [1.0, \"#f0f921\"]], \"type\": \"heatmap\"}], \"heatmapgl\": [{\"colorbar\": {\"outlinewidth\": 0, \"ticks\": \"\"}, \"colorscale\": [[0.0, \"#0d0887\"], [0.1111111111111111, \"#46039f\"], [0.2222222222222222, \"#7201a8\"], [0.3333333333333333, \"#9c179e\"], [0.4444444444444444, \"#bd3786\"], [0.5555555555555556, \"#d8576b\"], [0.6666666666666666, \"#ed7953\"], [0.7777777777777778, \"#fb9f3a\"], [0.8888888888888888, \"#fdca26\"], [1.0, \"#f0f921\"]], \"type\": \"heatmapgl\"}], \"histogram\": [{\"marker\": {\"colorbar\": {\"outlinewidth\": 0, \"ticks\": \"\"}}, \"type\": \"histogram\"}], \"histogram2d\": [{\"colorbar\": {\"outlinewidth\": 0, \"ticks\": \"\"}, \"colorscale\": [[0.0, \"#0d0887\"], [0.1111111111111111, \"#46039f\"], [0.2222222222222222, \"#7201a8\"], [0.3333333333333333, \"#9c179e\"], [0.4444444444444444, \"#bd3786\"], [0.5555555555555556, \"#d8576b\"], [0.6666666666666666, \"#ed7953\"], [0.7777777777777778, \"#fb9f3a\"], [0.8888888888888888, \"#fdca26\"], [1.0, \"#f0f921\"]], \"type\": \"histogram2d\"}], \"histogram2dcontour\": [{\"colorbar\": {\"outlinewidth\": 0, \"ticks\": \"\"}, \"colorscale\": [[0.0, \"#0d0887\"], [0.1111111111111111, \"#46039f\"], [0.2222222222222222, \"#7201a8\"], [0.3333333333333333, \"#9c179e\"], [0.4444444444444444, \"#bd3786\"], [0.5555555555555556, \"#d8576b\"], [0.6666666666666666, \"#ed7953\"], [0.7777777777777778, \"#fb9f3a\"], [0.8888888888888888, \"#fdca26\"], [1.0, \"#f0f921\"]], \"type\": \"histogram2dcontour\"}], \"mesh3d\": [{\"colorbar\": {\"outlinewidth\": 0, \"ticks\": \"\"}, \"type\": \"mesh3d\"}], \"parcoords\": [{\"line\": {\"colorbar\": {\"outlinewidth\": 0, \"ticks\": \"\"}}, \"type\": \"parcoords\"}], \"pie\": [{\"automargin\": true, \"type\": \"pie\"}], \"scatter\": [{\"marker\": {\"colorbar\": {\"outlinewidth\": 0, \"ticks\": \"\"}}, \"type\": \"scatter\"}], \"scatter3d\": [{\"line\": {\"colorbar\": {\"outlinewidth\": 0, \"ticks\": \"\"}}, \"marker\": {\"colorbar\": {\"outlinewidth\": 0, \"ticks\": \"\"}}, \"type\": \"scatter3d\"}], \"scattercarpet\": [{\"marker\": {\"colorbar\": {\"outlinewidth\": 0, \"ticks\": \"\"}}, \"type\": \"scattercarpet\"}], \"scattergeo\": [{\"marker\": {\"colorbar\": {\"outlinewidth\": 0, \"ticks\": \"\"}}, \"type\": \"scattergeo\"}], \"scattergl\": [{\"marker\": {\"colorbar\": {\"outlinewidth\": 0, \"ticks\": \"\"}}, \"type\": \"scattergl\"}], \"scattermapbox\": [{\"marker\": {\"colorbar\": {\"outlinewidth\": 0, \"ticks\": \"\"}}, \"type\": \"scattermapbox\"}], \"scatterpolar\": [{\"marker\": {\"colorbar\": {\"outlinewidth\": 0, \"ticks\": \"\"}}, \"type\": \"scatterpolar\"}], \"scatterpolargl\": [{\"marker\": {\"colorbar\": {\"outlinewidth\": 0, \"ticks\": \"\"}}, \"type\": \"scatterpolargl\"}], \"scatterternary\": [{\"marker\": {\"colorbar\": {\"outlinewidth\": 0, \"ticks\": \"\"}}, \"type\": \"scatterternary\"}], \"surface\": [{\"colorbar\": {\"outlinewidth\": 0, \"ticks\": \"\"}, \"colorscale\": [[0.0, \"#0d0887\"], [0.1111111111111111, \"#46039f\"], [0.2222222222222222, \"#7201a8\"], [0.3333333333333333, \"#9c179e\"], [0.4444444444444444, \"#bd3786\"], [0.5555555555555556, \"#d8576b\"], [0.6666666666666666, \"#ed7953\"], [0.7777777777777778, \"#fb9f3a\"], [0.8888888888888888, \"#fdca26\"], [1.0, \"#f0f921\"]], \"type\": \"surface\"}], \"table\": [{\"cells\": {\"fill\": {\"color\": \"#EBF0F8\"}, \"line\": {\"color\": \"white\"}}, \"header\": {\"fill\": {\"color\": \"#C8D4E3\"}, \"line\": {\"color\": \"white\"}}, \"type\": \"table\"}]}, \"layout\": {\"annotationdefaults\": {\"arrowcolor\": \"#2a3f5f\", \"arrowhead\": 0, \"arrowwidth\": 1}, \"coloraxis\": {\"colorbar\": {\"outlinewidth\": 0, \"ticks\": \"\"}}, \"colorscale\": {\"diverging\": [[0, \"#8e0152\"], [0.1, \"#c51b7d\"], [0.2, \"#de77ae\"], [0.3, \"#f1b6da\"], [0.4, \"#fde0ef\"], [0.5, \"#f7f7f7\"], [0.6, \"#e6f5d0\"], [0.7, \"#b8e186\"], [0.8, \"#7fbc41\"], [0.9, \"#4d9221\"], [1, \"#276419\"]], \"sequential\": [[0.0, \"#0d0887\"], [0.1111111111111111, \"#46039f\"], [0.2222222222222222, \"#7201a8\"], [0.3333333333333333, \"#9c179e\"], [0.4444444444444444, \"#bd3786\"], [0.5555555555555556, \"#d8576b\"], [0.6666666666666666, \"#ed7953\"], [0.7777777777777778, \"#fb9f3a\"], [0.8888888888888888, \"#fdca26\"], [1.0, \"#f0f921\"]], \"sequentialminus\": [[0.0, \"#0d0887\"], [0.1111111111111111, \"#46039f\"], [0.2222222222222222, \"#7201a8\"], [0.3333333333333333, \"#9c179e\"], [0.4444444444444444, \"#bd3786\"], [0.5555555555555556, \"#d8576b\"], [0.6666666666666666, \"#ed7953\"], [0.7777777777777778, \"#fb9f3a\"], [0.8888888888888888, \"#fdca26\"], [1.0, \"#f0f921\"]]}, \"colorway\": [\"#636efa\", \"#EF553B\", \"#00cc96\", \"#ab63fa\", \"#FFA15A\", \"#19d3f3\", \"#FF6692\", \"#B6E880\", \"#FF97FF\", \"#FECB52\"], \"font\": {\"color\": \"#2a3f5f\"}, \"geo\": {\"bgcolor\": \"white\", \"lakecolor\": \"white\", \"landcolor\": \"#E5ECF6\", \"showlakes\": true, \"showland\": true, \"subunitcolor\": \"white\"}, \"hoverlabel\": {\"align\": \"left\"}, \"hovermode\": \"closest\", \"mapbox\": {\"style\": \"light\"}, \"paper_bgcolor\": \"white\", \"plot_bgcolor\": \"#E5ECF6\", \"polar\": {\"angularaxis\": {\"gridcolor\": \"white\", \"linecolor\": \"white\", \"ticks\": \"\"}, \"bgcolor\": \"#E5ECF6\", \"radialaxis\": {\"gridcolor\": \"white\", \"linecolor\": \"white\", \"ticks\": \"\"}}, \"scene\": {\"xaxis\": {\"backgroundcolor\": \"#E5ECF6\", \"gridcolor\": \"white\", \"gridwidth\": 2, \"linecolor\": \"white\", \"showbackground\": true, \"ticks\": \"\", \"zerolinecolor\": \"white\"}, \"yaxis\": {\"backgroundcolor\": \"#E5ECF6\", \"gridcolor\": \"white\", \"gridwidth\": 2, \"linecolor\": \"white\", \"showbackground\": true, \"ticks\": \"\", \"zerolinecolor\": \"white\"}, \"zaxis\": {\"backgroundcolor\": \"#E5ECF6\", \"gridcolor\": \"white\", \"gridwidth\": 2, \"linecolor\": \"white\", \"showbackground\": true, \"ticks\": \"\", \"zerolinecolor\": \"white\"}}, \"shapedefaults\": {\"line\": {\"color\": \"#2a3f5f\"}}, \"ternary\": {\"aaxis\": {\"gridcolor\": \"white\", \"linecolor\": \"white\", \"ticks\": \"\"}, \"baxis\": {\"gridcolor\": \"white\", \"linecolor\": \"white\", \"ticks\": \"\"}, \"bgcolor\": \"#E5ECF6\", \"caxis\": {\"gridcolor\": \"white\", \"linecolor\": \"white\", \"ticks\": \"\"}}, \"title\": {\"x\": 0.05}, \"xaxis\": {\"automargin\": true, \"gridcolor\": \"white\", \"linecolor\": \"white\", \"ticks\": \"\", \"title\": {\"standoff\": 15}, \"zerolinecolor\": \"white\", \"zerolinewidth\": 2}, \"yaxis\": {\"automargin\": true, \"gridcolor\": \"white\", \"linecolor\": \"white\", \"ticks\": \"\", \"title\": {\"standoff\": 15}, \"zerolinecolor\": \"white\", \"zerolinewidth\": 2}}}},\n",
       "                        {\"responsive\": true}\n",
       "                    ).then(function(){\n",
       "                            \n",
       "var gd = document.getElementById('94c88349-7942-4192-9c9d-8f56f0494d3c');\n",
       "var x = new MutationObserver(function (mutations, observer) {{\n",
       "        var display = window.getComputedStyle(gd).display;\n",
       "        if (!display || display === 'none') {{\n",
       "            console.log([gd, 'removed!']);\n",
       "            Plotly.purge(gd);\n",
       "            observer.disconnect();\n",
       "        }}\n",
       "}});\n",
       "\n",
       "// Listen for the removal of the full notebook cells\n",
       "var notebookContainer = gd.closest('#notebook-container');\n",
       "if (notebookContainer) {{\n",
       "    x.observe(notebookContainer, {childList: true});\n",
       "}}\n",
       "\n",
       "// Listen for the clearing of the current output cell\n",
       "var outputEl = gd.closest('.output');\n",
       "if (outputEl) {{\n",
       "    x.observe(outputEl, {childList: true});\n",
       "}}\n",
       "\n",
       "                        })\n",
       "                };\n",
       "                });\n",
       "            </script>\n",
       "        </div>"
      ]
     },
     "metadata": {},
     "output_type": "display_data"
    }
   ],
   "source": [
    "\n",
    "vote_stats = vote_stats.sort_values(by=\"votes\", ascending=True)\n",
    "\n",
    "fig = go.Figure(data=[go.Table(\n",
    "    header=dict(values=[\"Electorate\", \"State\", \"Name\", \"Party\", \"Swing 2019\", \"Margin 2019\", \"Climate Votes\", \"Climate Participation %\"],\n",
    "                fill_color='paleturquoise',\n",
    "                align='left'),\n",
    "    cells=dict(values=[vote_stats.electorate, vote_stats.state, vote_stats.preferred_name, vote_stats.Party, vote_stats.Swing, vote_stats.Margin, vote_stats.votes, vote_stats.Participation,],\n",
    "               fill_color='lavender',\n",
    "               align='left'))\n",
    "])\n",
    "\n",
    "fig.show()"
   ]
  },
  {
   "cell_type": "code",
   "execution_count": 38,
   "metadata": {},
   "outputs": [
    {
     "data": {
      "application/vnd.plotly.v1+json": {
       "config": {
        "plotlyServerURL": "https://plot.ly"
       },
       "data": [
        {
         "cells": {
          "align": "left",
          "fill": {
           "color": "lavender"
          },
          "values": [
           [
            "Macquarie",
            "Bass",
            "Chisholm",
            "Lilley",
            "Cowan",
            "Eden-Monaro",
            "Corangamite",
            "Blair",
            "Boothby",
            "Dobell",
            "Moreton",
            "Warringah",
            "Mayo",
            "Gilmore",
            "Swan",
            "Dunkley",
            "Greenway",
            "Griffith",
            "Hunter",
            "Solomon",
            "Braddon",
            "Reid",
            "Longman",
            "Parramatta",
            "Higgins",
            "Richmond",
            "Leichhardt",
            "Robertson",
            "Shortland",
            "La Trobe",
            "Dickson",
            "Casey",
            "Deakin",
            "Brisbane",
            "Perth",
            "Burt",
            "McEwen",
            "Lindsay",
            "Paterson",
            "Lyons",
            "Hasluck",
            "Lingiari",
            "Werriwa",
            "Flinders",
            "Stirling",
            "Hotham",
            "Ryan",
            "Macnamara",
            "Banks",
            "Oxley",
            "Isaacs",
            "Rankin",
            "Hindmarsh",
            "Jagajaga",
            "McMahon",
            "Brand",
            "Kooyong",
            "Sturt",
            "Bennelong",
            "Fremantle",
            "Monash",
            "Bonner",
            "Bean",
            "Pearce",
            "Menzies",
            "Goldstein",
            "Adelaide",
            "Herbert",
            "Macarthur",
            "Petrie",
            "Forde",
            "Flynn",
            "Holt",
            "Kingsford Smith",
            "Bendigo",
            "North Sydney",
            "Barton",
            "Page",
            "Makin",
            "Hughes",
            "Wentworth",
            "Aston",
            "Bowman",
            "Corio",
            "Wannon",
            "Fenner",
            "Whitlam",
            "Ballarat",
            "Maribyrnong",
            "Tangney",
            "Canning",
            "Moore",
            "Cowper",
            "Kingston",
            "McPherson",
            "Franklin",
            "Capricornia",
            "Chifley",
            "Lalor",
            "Fisher",
            "Indi",
            "Hume",
            "Wide Bay",
            "Mackellar",
            "Calare",
            "Grey",
            "Cunningham",
            "Fairfax",
            "Watson",
            "Newcastle",
            "Fowler",
            "Spence",
            "Bruce",
            "Fraser",
            "Fadden",
            "Curtin",
            "O'Connor",
            "Hinkler",
            "Kennedy",
            "Forrest",
            "Wright",
            "Dawson",
            "Blaxland",
            "Durack",
            "Gellibrand",
            "Lyne",
            "Gorton",
            "Moncrieff",
            "Berowra",
            "Clark",
            "Mallee",
            "Bradfield",
            "Gippsland",
            "Parkes",
            "Melbourne",
            "Canberra",
            "New England",
            "Mitchell",
            "Sydney",
            "Calwell",
            "Barker",
            "Cook",
            "Riverina",
            "Farrer",
            "Nicholls",
            "Groom",
            "Scullin",
            "Grayndler",
            "Maranoa",
            "Wills",
            "Cooper"
           ],
           [
            "NSW",
            "TAS",
            "VIC",
            "QLD",
            "WA",
            "NSW",
            "VIC",
            "QLD",
            "SA",
            "NSW",
            "QLD",
            "NSW",
            "SA",
            "NSW",
            "WA",
            "VIC",
            "NSW",
            "QLD",
            "NSW",
            "NT",
            "TAS",
            "NSW",
            "QLD",
            "NSW",
            "VIC",
            "NSW",
            "QLD",
            "NSW",
            "NSW",
            "VIC",
            "QLD",
            "VIC",
            "VIC",
            "QLD",
            "WA",
            "WA",
            "VIC",
            "NSW",
            "NSW",
            "TAS",
            "WA",
            "NT",
            "NSW",
            "VIC",
            "WA",
            "VIC",
            "QLD",
            "VIC",
            "NSW",
            "QLD",
            "VIC",
            "QLD",
            "SA",
            "VIC",
            "NSW",
            "WA",
            "VIC",
            "SA",
            "NSW",
            "WA",
            "VIC",
            "QLD",
            "ACT",
            "WA",
            "VIC",
            "VIC",
            "SA",
            "QLD",
            "NSW",
            "QLD",
            "QLD",
            "QLD",
            "VIC",
            "NSW",
            "VIC",
            "NSW",
            "NSW",
            "NSW",
            "SA",
            "NSW",
            "NSW",
            "VIC",
            "QLD",
            "VIC",
            "VIC",
            "ACT",
            "NSW",
            "VIC",
            "VIC",
            "WA",
            "WA",
            "WA",
            "NSW",
            "SA",
            "QLD",
            "TAS",
            "QLD",
            "NSW",
            "VIC",
            "QLD",
            "VIC",
            "NSW",
            "QLD",
            "NSW",
            "NSW",
            "SA",
            "NSW",
            "QLD",
            "NSW",
            "NSW",
            "NSW",
            "SA",
            "VIC",
            "VIC",
            "QLD",
            "WA",
            "WA",
            "QLD",
            "QLD",
            "WA",
            "QLD",
            "QLD",
            "NSW",
            "WA",
            "VIC",
            "NSW",
            "VIC",
            "QLD",
            "NSW",
            "TAS",
            "VIC",
            "NSW",
            "VIC",
            "NSW",
            "VIC",
            "ACT",
            "NSW",
            "NSW",
            "NSW",
            "VIC",
            "SA",
            "NSW",
            "NSW",
            "NSW",
            "VIC",
            "QLD",
            "VIC",
            "NSW",
            "QLD",
            "VIC",
            "VIC"
           ],
           [
            "Susan Templeman",
            "Bridget Archer",
            "Gladys Liu",
            "Anika Wells",
            "Anne Aly",
            "Mike Kelly",
            "Libby Coker",
            "Shayne Neumann",
            "Nicolle Flint",
            "Emma Mcbride",
            "Graham Perrett",
            "Zali Steggall",
            "Rebekha Sharkie",
            "Fiona Phillips",
            "Steve Irons",
            "Peta Murphy",
            "Michelle Rowland",
            "Terri Butler",
            "Joel Fitzgibbon",
            "Luke Gosling",
            "Gavin Pearce",
            "Fiona Martin",
            "Terry Young",
            "Julie Owens",
            "Katie Allen",
            "Justine Elliot",
            "Warren Entsch",
            "Lucy Wicks",
            "Pat Conroy",
            "Jason Wood",
            "Peter Dutton",
            "Tony Smith",
            "Michael Sukkar",
            "Trevor Evans",
            "Patrick Gorman",
            "Matt Keogh",
            "Rob Mitchell",
            "Melissa Mcintosh",
            "Meryl Swanson",
            "Brian Mitchell",
            "Ken Wyatt",
            "Warren Snowdon",
            "Anne Stanley",
            "Greg Hunt",
            "Vince Connelly",
            "Clare O'neil",
            "Julian Simmonds",
            "Josh Burns",
            "David Coleman",
            "Milton Dick",
            "Mark Dreyfus",
            "Jim Chalmers",
            "Mark Butler",
            "Kate Thwaites",
            "Chris Bowen",
            "Madeleine King",
            "Josh Frydenberg",
            "James Stevens",
            "John Alexander",
            "Josh Wilson",
            "Russell Broadbent",
            "Ross Vasta",
            "David Smith",
            "Christian Porter",
            "Kevin Andrews",
            "Tim Wilson",
            "Steve Georganas",
            "Phillip Thompson",
            "Mike Freelander",
            "Luke Howarth",
            "Bert Van Manen",
            "Ken O'dowd",
            "Anthony Byrne",
            "Matt Thistlethwaite",
            "Lisa Chesters",
            "Trent Zimmerman",
            "Linda Burney",
            "Kevin Hogan",
            "Tony Zappia",
            "Craig Kelly",
            "Dave Sharma",
            "Alan Tudge",
            "Andrew Laming",
            "Richard Marles",
            "Dan Tehan",
            "Andrew Leigh",
            "Stephen Jones",
            "Catherine King",
            "Bill Shorten",
            "Ben Morton",
            "Andrew Hastie",
            "Ian Goodenough",
            "Pat Conaghan",
            "Amanda Rishworth",
            "Karen Andrews",
            "Julie Collins",
            "Michelle Landry",
            "Ed Husic",
            "Joanne Ryan",
            "Andrew Wallace",
            "Helen Haines",
            "Angus Taylor",
            "Llew O'brien",
            "Jason Falinski",
            "Andrew Gee",
            "Rowan Ramsey",
            "Sharon Bird",
            "Ted O'brien",
            "Tony Burke",
            "Sharon Claydon",
            "Chris Hayes",
            "Nick Champion",
            "Julian Hill",
            "Daniel Mulino",
            "Stuart Robert",
            "Celia Hammond",
            "Rick Wilson",
            "Keith Pitt",
            "Bob Katter",
            "Nola Marino",
            "Scott Buchholz",
            "George Christensen",
            "Jason Clare",
            "Melissa Price",
            "Tim Watts",
            "David Gillespie",
            "Brendan O'connor",
            "Angie Bell",
            "Julian Leeser",
            "Andrew Wilkie",
            "Anne Webster",
            "Paul Fletcher",
            "Darren Chester",
            "Mark Coulton",
            "Adam Bandt",
            "Alicia Payne",
            "Barnaby Joyce",
            "Alex Hawke",
            "Tanya Plibersek",
            "Maria Vamvakinou",
            "Tony Pasin",
            "Scott Morrison",
            "Michael Mccormack",
            "Sussan Ley",
            "Damian Drum",
            "John Mcveigh",
            "Andrew Giles",
            "Anthony Albanese",
            "David Littleproud",
            "Peter Khalil",
            "Ged Kearney"
           ],
           [
            "ALP",
            "LP",
            "LP",
            "ALP",
            "ALP",
            "ALP",
            "ALP",
            "ALP",
            "LP",
            "ALP",
            "ALP",
            "LP",
            "LP",
            "ALP",
            "LP",
            "ALP",
            "ALP",
            "ALP",
            "ALP",
            "ALP",
            "LP",
            "LP",
            "LNP",
            "ALP",
            "LP",
            "ALP",
            "LNP",
            "LP",
            "ALP",
            "LP",
            "LNP",
            "LP",
            "LP",
            "LNP",
            "ALP",
            "ALP",
            "ALP",
            "LP",
            "ALP",
            "ALP",
            "LP",
            "ALP",
            "ALP",
            "LP",
            "LP",
            "ALP",
            "LNP",
            "ALP",
            "LP",
            "ALP",
            "ALP",
            "ALP",
            "ALP",
            "ALP",
            "ALP",
            "ALP",
            "LP",
            "LP",
            "LP",
            "ALP",
            "LP",
            "LNP",
            "ALP",
            "LP",
            "LP",
            "LP",
            "ALP",
            "LNP",
            "ALP",
            "LNP",
            "LNP",
            "LNP",
            "ALP",
            "ALP",
            "ALP",
            "LP",
            "ALP",
            "NP",
            "ALP",
            "LP",
            "LP",
            "LP",
            "LNP",
            "ALP",
            "LP",
            "ALP",
            "ALP",
            "ALP",
            "ALP",
            "LP",
            "LP",
            "LP",
            "NP",
            "ALP",
            "LNP",
            "ALP",
            "LNP",
            "ALP",
            "ALP",
            "LNP",
            "LP",
            "LP",
            "LNP",
            "LP",
            "NP",
            "LP",
            "ALP",
            "LNP",
            "ALP",
            "ALP",
            "ALP",
            "ALP",
            "ALP",
            "ALP",
            "LNP",
            "LP",
            "LP",
            "LNP",
            "LNP",
            "LP",
            "LNP",
            "LNP",
            "ALP",
            "LP",
            "ALP",
            "NP",
            "ALP",
            "LNP",
            "LP",
            "ALP",
            "NP",
            "LP",
            "NP",
            "NP",
            "ALP",
            "ALP",
            "NP",
            "LP",
            "ALP",
            "ALP",
            "LP",
            "LP",
            "NP",
            "LP",
            "NP",
            "LNP",
            "ALP",
            "ALP",
            "LNP",
            "ALP",
            "ALP"
           ],
           [
            2,
            5.83,
            -2.34,
            5.04,
            -0.15,
            2.08,
            -1.04,
            6.93,
            -1.33,
            3.31,
            2.12,
            -8.97,
            -0.73,
            -3.34,
            -0.9,
            -1.71,
            3.51,
            -1.43,
            9.48,
            3.01,
            4.82,
            -1.51,
            4.07,
            4.17,
            -6.09,
            -0.12,
            0.22,
            3.1,
            5.49,
            1.27,
            2.95,
            0.1,
            -1.66,
            -1.08,
            -1.6,
            2.12,
            0.98,
            6.15,
            5.7,
            -1.35,
            3.34,
            2.73,
            2.73,
            -1.37,
            -0.47,
            -1.7,
            -2.95,
            -5.04,
            4.82,
            2.62,
            -3.45,
            4.86,
            1.89,
            -0.97,
            5.47,
            4.77,
            -6.14,
            1.48,
            -2.81,
            0.6,
            -0.15,
            4.02,
            1.33,
            3.89,
            -0.28,
            -4.89,
            0.12,
            8.38,
            -0.07,
            6.75,
            7.97,
            7.62,
            1.24,
            -0.24,
            -5.17,
            -4.34,
            -1.11,
            7.15,
            1.07,
            0.52,
            -7.9,
            2.72,
            3.17,
            -2.12,
            1.23,
            1.28,
            39.09,
            -3.62,
            -0.8,
            0.4,
            4.76,
            0.63,
            -0.7,
            1.61,
            0.56,
            -1.48,
            11.72,
            6.82,
            1.78,
            3.55,
            7.72,
            2.81,
            4.96,
            -2.52,
            1.48,
            5.57,
            -0.09,
            2.57,
            4.06,
            0.01,
            3.5,
            3.04,
            -0.1,
            5.61,
            2.94,
            -6.37,
            -0.56,
            6.12,
            7.77,
            2,
            4.96,
            11.24,
            4.76,
            3.7,
            0.29,
            3.54,
            3.13,
            0.75,
            -0.8,
            -0.84,
            -3.57,
            -4.48,
            -1.54,
            1.81,
            -0.06,
            -4.14,
            1.21,
            0.81,
            -3.36,
            0.93,
            5.07,
            3.63,
            3.04,
            -0.7,
            -2.49,
            5.17,
            -2.08,
            -1.47,
            7.88,
            -4.18,
            -4.23
           ],
           [
            0.38,
            0.82,
            1.14,
            1.28,
            1.66,
            1.7,
            2.14,
            2.42,
            2.76,
            3,
            3.8,
            4.24,
            5.08,
            5.22,
            5.38,
            5.48,
            5.6,
            5.72,
            5.96,
            6.16,
            6.18,
            6.36,
            6.56,
            7,
            7.76,
            8.16,
            8.34,
            8.48,
            8.9,
            8.98,
            9.28,
            9.28,
            9.56,
            9.84,
            9.86,
            9.98,
            10.04,
            10.08,
            10.08,
            10.36,
            10.78,
            10.92,
            10.94,
            11.28,
            11.3,
            11.82,
            12.06,
            12.5,
            12.52,
            12.78,
            12.86,
            12.88,
            13.08,
            13.14,
            13.28,
            13.32,
            13.36,
            13.74,
            13.82,
            13.84,
            14.72,
            14.82,
            15.04,
            15.04,
            15.06,
            15.58,
            16.36,
            16.72,
            16.8,
            16.8,
            17.2,
            17.32,
            17.4,
            17.62,
            18.08,
            18.54,
            18.82,
            18.9,
            19.44,
            19.7,
            19.7,
            20.26,
            20.48,
            20.64,
            20.76,
            21.12,
            21.82,
            21.96,
            22.4,
            22.94,
            23.1,
            23.3,
            23.76,
            23.88,
            24.4,
            24.42,
            24.7,
            24.74,
            24.82,
            25.4,
            25.46,
            25.98,
            26.3,
            26.44,
            26.58,
            26.64,
            26.82,
            26.88,
            27.04,
            27.66,
            27.98,
            28.26,
            28.3,
            28.36,
            28.36,
            28.66,
            28.96,
            29,
            29.02,
            29.12,
            29.16,
            29.22,
            29.44,
            29.52,
            29.66,
            30.34,
            30.72,
            30.72,
            31.3,
            32.34,
            32.46,
            33.12,
            33.34,
            33.82,
            34.12,
            34.16,
            35.26,
            37.26,
            37.34,
            37.6,
            37.88,
            38.04,
            38.96,
            39.66,
            40.06,
            40.96,
            43.32,
            47.66,
            50.84,
            51.7,
            52.64
           ],
           [
            636,
            192,
            275,
            273,
            69,
            662,
            554,
            147,
            483,
            232,
            336,
            3884,
            541,
            592,
            254,
            197,
            93,
            432,
            293,
            171,
            134,
            388,
            92,
            181,
            617,
            840,
            248,
            394,
            244,
            122,
            267,
            363,
            260,
            960,
            323,
            55,
            172,
            98,
            162,
            177,
            178,
            119,
            42,
            389,
            262,
            124,
            478,
            629,
            198,
            147,
            188,
            74,
            248,
            372,
            30,
            85,
            521,
            314,
            504,
            395,
            228,
            237,
            511,
            79,
            238,
            517,
            516,
            240,
            100,
            137,
            97,
            48,
            28,
            602,
            492,
            1290,
            304,
            475,
            93,
            388,
            1392,
            138,
            163,
            215,
            202,
            339,
            251,
            406,
            403,
            230,
            126,
            129,
            604,
            165,
            306,
            399,
            75,
            69,
            66,
            310,
            574,
            283,
            285,
            1073,
            311,
            163,
            401,
            332,
            131,
            575,
            37,
            66,
            42,
            46,
            125,
            326,
            169,
            83,
            89,
            193,
            163,
            110,
            72,
            148,
            341,
            419,
            30,
            184,
            439,
            466,
            113,
            674,
            273,
            115,
            1530,
            1200,
            362,
            194,
            1836,
            46,
            122,
            270,
            215,
            176,
            105,
            157,
            60,
            1349,
            97,
            717,
            773
           ],
           [
            0.66,
            0.28,
            0.29,
            0.28,
            0.08,
            0.67,
            0.55,
            0.15,
            0.44,
            0.23,
            0.37,
            4.22,
            0.48,
            0.55,
            0.3,
            0.2,
            0.1,
            0.43,
            0.29,
            0.31,
            0.19,
            0.41,
            0.09,
            0.21,
            0.61,
            0.84,
            0.28,
            0.41,
            0.24,
            0.12,
            0.28,
            0.36,
            0.27,
            0.94,
            0.37,
            0.06,
            0.18,
            0.1,
            0.15,
            0.25,
            0.21,
            0.25,
            0.04,
            0.4,
            0.3,
            0.13,
            0.5,
            0.65,
            0.22,
            0.16,
            0.19,
            0.09,
            0.23,
            0.38,
            0.04,
            0.1,
            0.53,
            0.29,
            0.52,
            0.43,
            0.23,
            0.25,
            0.55,
            0.08,
            0.24,
            0.52,
            0.48,
            0.26,
            0.1,
            0.13,
            0.11,
            0.05,
            0.03,
            0.64,
            0.48,
            1.33,
            0.34,
            0.44,
            0.09,
            0.41,
            1.55,
            0.14,
            0.17,
            0.22,
            0.19,
            0.39,
            0.24,
            0.4,
            0.4,
            0.28,
            0.14,
            0.15,
            0.57,
            0.16,
            0.33,
            0.57,
            0.08,
            0.08,
            0.07,
            0.31,
            0.57,
            0.28,
            0.3,
            1.09,
            0.3,
            0.16,
            0.4,
            0.34,
            0.16,
            0.56,
            0.04,
            0.06,
            0.05,
            0.05,
            0.13,
            0.37,
            0.2,
            0.09,
            0.1,
            0.21,
            0.17,
            0.12,
            0.09,
            0.19,
            0.35,
            0.41,
            0.03,
            0.2,
            0.47,
            0.69,
            0.12,
            0.7,
            0.28,
            0.12,
            1.64,
            1.39,
            0.37,
            0.2,
            1.94,
            0.05,
            0.12,
            0.29,
            0.21,
            0.18,
            0.11,
            0.16,
            0.07,
            1.41,
            0.1,
            0.75,
            0.79
           ]
          ]
         },
         "header": {
          "align": "left",
          "fill": {
           "color": "paleturquoise"
          },
          "values": [
           "Electorate",
           "State",
           "Name",
           "Party",
           "Swing 2019",
           "Margin 2019",
           "Climate Votes",
           "Climate Participation %"
          ]
         },
         "type": "table"
        }
       ],
       "layout": {
        "template": {
         "data": {
          "bar": [
           {
            "error_x": {
             "color": "#2a3f5f"
            },
            "error_y": {
             "color": "#2a3f5f"
            },
            "marker": {
             "line": {
              "color": "#E5ECF6",
              "width": 0.5
             }
            },
            "type": "bar"
           }
          ],
          "barpolar": [
           {
            "marker": {
             "line": {
              "color": "#E5ECF6",
              "width": 0.5
             }
            },
            "type": "barpolar"
           }
          ],
          "carpet": [
           {
            "aaxis": {
             "endlinecolor": "#2a3f5f",
             "gridcolor": "white",
             "linecolor": "white",
             "minorgridcolor": "white",
             "startlinecolor": "#2a3f5f"
            },
            "baxis": {
             "endlinecolor": "#2a3f5f",
             "gridcolor": "white",
             "linecolor": "white",
             "minorgridcolor": "white",
             "startlinecolor": "#2a3f5f"
            },
            "type": "carpet"
           }
          ],
          "choropleth": [
           {
            "colorbar": {
             "outlinewidth": 0,
             "ticks": ""
            },
            "type": "choropleth"
           }
          ],
          "contour": [
           {
            "colorbar": {
             "outlinewidth": 0,
             "ticks": ""
            },
            "colorscale": [
             [
              0,
              "#0d0887"
             ],
             [
              0.1111111111111111,
              "#46039f"
             ],
             [
              0.2222222222222222,
              "#7201a8"
             ],
             [
              0.3333333333333333,
              "#9c179e"
             ],
             [
              0.4444444444444444,
              "#bd3786"
             ],
             [
              0.5555555555555556,
              "#d8576b"
             ],
             [
              0.6666666666666666,
              "#ed7953"
             ],
             [
              0.7777777777777778,
              "#fb9f3a"
             ],
             [
              0.8888888888888888,
              "#fdca26"
             ],
             [
              1,
              "#f0f921"
             ]
            ],
            "type": "contour"
           }
          ],
          "contourcarpet": [
           {
            "colorbar": {
             "outlinewidth": 0,
             "ticks": ""
            },
            "type": "contourcarpet"
           }
          ],
          "heatmap": [
           {
            "colorbar": {
             "outlinewidth": 0,
             "ticks": ""
            },
            "colorscale": [
             [
              0,
              "#0d0887"
             ],
             [
              0.1111111111111111,
              "#46039f"
             ],
             [
              0.2222222222222222,
              "#7201a8"
             ],
             [
              0.3333333333333333,
              "#9c179e"
             ],
             [
              0.4444444444444444,
              "#bd3786"
             ],
             [
              0.5555555555555556,
              "#d8576b"
             ],
             [
              0.6666666666666666,
              "#ed7953"
             ],
             [
              0.7777777777777778,
              "#fb9f3a"
             ],
             [
              0.8888888888888888,
              "#fdca26"
             ],
             [
              1,
              "#f0f921"
             ]
            ],
            "type": "heatmap"
           }
          ],
          "heatmapgl": [
           {
            "colorbar": {
             "outlinewidth": 0,
             "ticks": ""
            },
            "colorscale": [
             [
              0,
              "#0d0887"
             ],
             [
              0.1111111111111111,
              "#46039f"
             ],
             [
              0.2222222222222222,
              "#7201a8"
             ],
             [
              0.3333333333333333,
              "#9c179e"
             ],
             [
              0.4444444444444444,
              "#bd3786"
             ],
             [
              0.5555555555555556,
              "#d8576b"
             ],
             [
              0.6666666666666666,
              "#ed7953"
             ],
             [
              0.7777777777777778,
              "#fb9f3a"
             ],
             [
              0.8888888888888888,
              "#fdca26"
             ],
             [
              1,
              "#f0f921"
             ]
            ],
            "type": "heatmapgl"
           }
          ],
          "histogram": [
           {
            "marker": {
             "colorbar": {
              "outlinewidth": 0,
              "ticks": ""
             }
            },
            "type": "histogram"
           }
          ],
          "histogram2d": [
           {
            "colorbar": {
             "outlinewidth": 0,
             "ticks": ""
            },
            "colorscale": [
             [
              0,
              "#0d0887"
             ],
             [
              0.1111111111111111,
              "#46039f"
             ],
             [
              0.2222222222222222,
              "#7201a8"
             ],
             [
              0.3333333333333333,
              "#9c179e"
             ],
             [
              0.4444444444444444,
              "#bd3786"
             ],
             [
              0.5555555555555556,
              "#d8576b"
             ],
             [
              0.6666666666666666,
              "#ed7953"
             ],
             [
              0.7777777777777778,
              "#fb9f3a"
             ],
             [
              0.8888888888888888,
              "#fdca26"
             ],
             [
              1,
              "#f0f921"
             ]
            ],
            "type": "histogram2d"
           }
          ],
          "histogram2dcontour": [
           {
            "colorbar": {
             "outlinewidth": 0,
             "ticks": ""
            },
            "colorscale": [
             [
              0,
              "#0d0887"
             ],
             [
              0.1111111111111111,
              "#46039f"
             ],
             [
              0.2222222222222222,
              "#7201a8"
             ],
             [
              0.3333333333333333,
              "#9c179e"
             ],
             [
              0.4444444444444444,
              "#bd3786"
             ],
             [
              0.5555555555555556,
              "#d8576b"
             ],
             [
              0.6666666666666666,
              "#ed7953"
             ],
             [
              0.7777777777777778,
              "#fb9f3a"
             ],
             [
              0.8888888888888888,
              "#fdca26"
             ],
             [
              1,
              "#f0f921"
             ]
            ],
            "type": "histogram2dcontour"
           }
          ],
          "mesh3d": [
           {
            "colorbar": {
             "outlinewidth": 0,
             "ticks": ""
            },
            "type": "mesh3d"
           }
          ],
          "parcoords": [
           {
            "line": {
             "colorbar": {
              "outlinewidth": 0,
              "ticks": ""
             }
            },
            "type": "parcoords"
           }
          ],
          "pie": [
           {
            "automargin": true,
            "type": "pie"
           }
          ],
          "scatter": [
           {
            "marker": {
             "colorbar": {
              "outlinewidth": 0,
              "ticks": ""
             }
            },
            "type": "scatter"
           }
          ],
          "scatter3d": [
           {
            "line": {
             "colorbar": {
              "outlinewidth": 0,
              "ticks": ""
             }
            },
            "marker": {
             "colorbar": {
              "outlinewidth": 0,
              "ticks": ""
             }
            },
            "type": "scatter3d"
           }
          ],
          "scattercarpet": [
           {
            "marker": {
             "colorbar": {
              "outlinewidth": 0,
              "ticks": ""
             }
            },
            "type": "scattercarpet"
           }
          ],
          "scattergeo": [
           {
            "marker": {
             "colorbar": {
              "outlinewidth": 0,
              "ticks": ""
             }
            },
            "type": "scattergeo"
           }
          ],
          "scattergl": [
           {
            "marker": {
             "colorbar": {
              "outlinewidth": 0,
              "ticks": ""
             }
            },
            "type": "scattergl"
           }
          ],
          "scattermapbox": [
           {
            "marker": {
             "colorbar": {
              "outlinewidth": 0,
              "ticks": ""
             }
            },
            "type": "scattermapbox"
           }
          ],
          "scatterpolar": [
           {
            "marker": {
             "colorbar": {
              "outlinewidth": 0,
              "ticks": ""
             }
            },
            "type": "scatterpolar"
           }
          ],
          "scatterpolargl": [
           {
            "marker": {
             "colorbar": {
              "outlinewidth": 0,
              "ticks": ""
             }
            },
            "type": "scatterpolargl"
           }
          ],
          "scatterternary": [
           {
            "marker": {
             "colorbar": {
              "outlinewidth": 0,
              "ticks": ""
             }
            },
            "type": "scatterternary"
           }
          ],
          "surface": [
           {
            "colorbar": {
             "outlinewidth": 0,
             "ticks": ""
            },
            "colorscale": [
             [
              0,
              "#0d0887"
             ],
             [
              0.1111111111111111,
              "#46039f"
             ],
             [
              0.2222222222222222,
              "#7201a8"
             ],
             [
              0.3333333333333333,
              "#9c179e"
             ],
             [
              0.4444444444444444,
              "#bd3786"
             ],
             [
              0.5555555555555556,
              "#d8576b"
             ],
             [
              0.6666666666666666,
              "#ed7953"
             ],
             [
              0.7777777777777778,
              "#fb9f3a"
             ],
             [
              0.8888888888888888,
              "#fdca26"
             ],
             [
              1,
              "#f0f921"
             ]
            ],
            "type": "surface"
           }
          ],
          "table": [
           {
            "cells": {
             "fill": {
              "color": "#EBF0F8"
             },
             "line": {
              "color": "white"
             }
            },
            "header": {
             "fill": {
              "color": "#C8D4E3"
             },
             "line": {
              "color": "white"
             }
            },
            "type": "table"
           }
          ]
         },
         "layout": {
          "annotationdefaults": {
           "arrowcolor": "#2a3f5f",
           "arrowhead": 0,
           "arrowwidth": 1
          },
          "coloraxis": {
           "colorbar": {
            "outlinewidth": 0,
            "ticks": ""
           }
          },
          "colorscale": {
           "diverging": [
            [
             0,
             "#8e0152"
            ],
            [
             0.1,
             "#c51b7d"
            ],
            [
             0.2,
             "#de77ae"
            ],
            [
             0.3,
             "#f1b6da"
            ],
            [
             0.4,
             "#fde0ef"
            ],
            [
             0.5,
             "#f7f7f7"
            ],
            [
             0.6,
             "#e6f5d0"
            ],
            [
             0.7,
             "#b8e186"
            ],
            [
             0.8,
             "#7fbc41"
            ],
            [
             0.9,
             "#4d9221"
            ],
            [
             1,
             "#276419"
            ]
           ],
           "sequential": [
            [
             0,
             "#0d0887"
            ],
            [
             0.1111111111111111,
             "#46039f"
            ],
            [
             0.2222222222222222,
             "#7201a8"
            ],
            [
             0.3333333333333333,
             "#9c179e"
            ],
            [
             0.4444444444444444,
             "#bd3786"
            ],
            [
             0.5555555555555556,
             "#d8576b"
            ],
            [
             0.6666666666666666,
             "#ed7953"
            ],
            [
             0.7777777777777778,
             "#fb9f3a"
            ],
            [
             0.8888888888888888,
             "#fdca26"
            ],
            [
             1,
             "#f0f921"
            ]
           ],
           "sequentialminus": [
            [
             0,
             "#0d0887"
            ],
            [
             0.1111111111111111,
             "#46039f"
            ],
            [
             0.2222222222222222,
             "#7201a8"
            ],
            [
             0.3333333333333333,
             "#9c179e"
            ],
            [
             0.4444444444444444,
             "#bd3786"
            ],
            [
             0.5555555555555556,
             "#d8576b"
            ],
            [
             0.6666666666666666,
             "#ed7953"
            ],
            [
             0.7777777777777778,
             "#fb9f3a"
            ],
            [
             0.8888888888888888,
             "#fdca26"
            ],
            [
             1,
             "#f0f921"
            ]
           ]
          },
          "colorway": [
           "#636efa",
           "#EF553B",
           "#00cc96",
           "#ab63fa",
           "#FFA15A",
           "#19d3f3",
           "#FF6692",
           "#B6E880",
           "#FF97FF",
           "#FECB52"
          ],
          "font": {
           "color": "#2a3f5f"
          },
          "geo": {
           "bgcolor": "white",
           "lakecolor": "white",
           "landcolor": "#E5ECF6",
           "showlakes": true,
           "showland": true,
           "subunitcolor": "white"
          },
          "hoverlabel": {
           "align": "left"
          },
          "hovermode": "closest",
          "mapbox": {
           "style": "light"
          },
          "paper_bgcolor": "white",
          "plot_bgcolor": "#E5ECF6",
          "polar": {
           "angularaxis": {
            "gridcolor": "white",
            "linecolor": "white",
            "ticks": ""
           },
           "bgcolor": "#E5ECF6",
           "radialaxis": {
            "gridcolor": "white",
            "linecolor": "white",
            "ticks": ""
           }
          },
          "scene": {
           "xaxis": {
            "backgroundcolor": "#E5ECF6",
            "gridcolor": "white",
            "gridwidth": 2,
            "linecolor": "white",
            "showbackground": true,
            "ticks": "",
            "zerolinecolor": "white"
           },
           "yaxis": {
            "backgroundcolor": "#E5ECF6",
            "gridcolor": "white",
            "gridwidth": 2,
            "linecolor": "white",
            "showbackground": true,
            "ticks": "",
            "zerolinecolor": "white"
           },
           "zaxis": {
            "backgroundcolor": "#E5ECF6",
            "gridcolor": "white",
            "gridwidth": 2,
            "linecolor": "white",
            "showbackground": true,
            "ticks": "",
            "zerolinecolor": "white"
           }
          },
          "shapedefaults": {
           "line": {
            "color": "#2a3f5f"
           }
          },
          "ternary": {
           "aaxis": {
            "gridcolor": "white",
            "linecolor": "white",
            "ticks": ""
           },
           "baxis": {
            "gridcolor": "white",
            "linecolor": "white",
            "ticks": ""
           },
           "bgcolor": "#E5ECF6",
           "caxis": {
            "gridcolor": "white",
            "linecolor": "white",
            "ticks": ""
           }
          },
          "title": {
           "x": 0.05
          },
          "xaxis": {
           "automargin": true,
           "gridcolor": "white",
           "linecolor": "white",
           "ticks": "",
           "title": {
            "standoff": 15
           },
           "zerolinecolor": "white",
           "zerolinewidth": 2
          },
          "yaxis": {
           "automargin": true,
           "gridcolor": "white",
           "linecolor": "white",
           "ticks": "",
           "title": {
            "standoff": 15
           },
           "zerolinecolor": "white",
           "zerolinewidth": 2
          }
         }
        }
       }
      },
      "text/html": [
       "<div>\n",
       "        \n",
       "        \n",
       "            <div id=\"99a46d9f-ad13-4de8-bc07-d2cf8f978827\" class=\"plotly-graph-div\" style=\"height:525px; width:100%;\"></div>\n",
       "            <script type=\"text/javascript\">\n",
       "                require([\"plotly\"], function(Plotly) {\n",
       "                    window.PLOTLYENV=window.PLOTLYENV || {};\n",
       "                    \n",
       "                if (document.getElementById(\"99a46d9f-ad13-4de8-bc07-d2cf8f978827\")) {\n",
       "                    Plotly.newPlot(\n",
       "                        '99a46d9f-ad13-4de8-bc07-d2cf8f978827',\n",
       "                        [{\"cells\": {\"align\": \"left\", \"fill\": {\"color\": \"lavender\"}, \"values\": [[\"Macquarie\", \"Bass\", \"Chisholm\", \"Lilley\", \"Cowan\", \"Eden-Monaro\", \"Corangamite\", \"Blair\", \"Boothby\", \"Dobell\", \"Moreton\", \"Warringah\", \"Mayo\", \"Gilmore\", \"Swan\", \"Dunkley\", \"Greenway\", \"Griffith\", \"Hunter\", \"Solomon\", \"Braddon\", \"Reid\", \"Longman\", \"Parramatta\", \"Higgins\", \"Richmond\", \"Leichhardt\", \"Robertson\", \"Shortland\", \"La Trobe\", \"Dickson\", \"Casey\", \"Deakin\", \"Brisbane\", \"Perth\", \"Burt\", \"McEwen\", \"Lindsay\", \"Paterson\", \"Lyons\", \"Hasluck\", \"Lingiari\", \"Werriwa\", \"Flinders\", \"Stirling\", \"Hotham\", \"Ryan\", \"Macnamara\", \"Banks\", \"Oxley\", \"Isaacs\", \"Rankin\", \"Hindmarsh\", \"Jagajaga\", \"McMahon\", \"Brand\", \"Kooyong\", \"Sturt\", \"Bennelong\", \"Fremantle\", \"Monash\", \"Bonner\", \"Bean\", \"Pearce\", \"Menzies\", \"Goldstein\", \"Adelaide\", \"Herbert\", \"Macarthur\", \"Petrie\", \"Forde\", \"Flynn\", \"Holt\", \"Kingsford Smith\", \"Bendigo\", \"North Sydney\", \"Barton\", \"Page\", \"Makin\", \"Hughes\", \"Wentworth\", \"Aston\", \"Bowman\", \"Corio\", \"Wannon\", \"Fenner\", \"Whitlam\", \"Ballarat\", \"Maribyrnong\", \"Tangney\", \"Canning\", \"Moore\", \"Cowper\", \"Kingston\", \"McPherson\", \"Franklin\", \"Capricornia\", \"Chifley\", \"Lalor\", \"Fisher\", \"Indi\", \"Hume\", \"Wide Bay\", \"Mackellar\", \"Calare\", \"Grey\", \"Cunningham\", \"Fairfax\", \"Watson\", \"Newcastle\", \"Fowler\", \"Spence\", \"Bruce\", \"Fraser\", \"Fadden\", \"Curtin\", \"O'Connor\", \"Hinkler\", \"Kennedy\", \"Forrest\", \"Wright\", \"Dawson\", \"Blaxland\", \"Durack\", \"Gellibrand\", \"Lyne\", \"Gorton\", \"Moncrieff\", \"Berowra\", \"Clark\", \"Mallee\", \"Bradfield\", \"Gippsland\", \"Parkes\", \"Melbourne\", \"Canberra\", \"New England\", \"Mitchell\", \"Sydney\", \"Calwell\", \"Barker\", \"Cook\", \"Riverina\", \"Farrer\", \"Nicholls\", \"Groom\", \"Scullin\", \"Grayndler\", \"Maranoa\", \"Wills\", \"Cooper\"], [\"NSW\", \"TAS\", \"VIC\", \"QLD\", \"WA\", \"NSW\", \"VIC\", \"QLD\", \"SA\", \"NSW\", \"QLD\", \"NSW\", \"SA\", \"NSW\", \"WA\", \"VIC\", \"NSW\", \"QLD\", \"NSW\", \"NT\", \"TAS\", \"NSW\", \"QLD\", \"NSW\", \"VIC\", \"NSW\", \"QLD\", \"NSW\", \"NSW\", \"VIC\", \"QLD\", \"VIC\", \"VIC\", \"QLD\", \"WA\", \"WA\", \"VIC\", \"NSW\", \"NSW\", \"TAS\", \"WA\", \"NT\", \"NSW\", \"VIC\", \"WA\", \"VIC\", \"QLD\", \"VIC\", \"NSW\", \"QLD\", \"VIC\", \"QLD\", \"SA\", \"VIC\", \"NSW\", \"WA\", \"VIC\", \"SA\", \"NSW\", \"WA\", \"VIC\", \"QLD\", \"ACT\", \"WA\", \"VIC\", \"VIC\", \"SA\", \"QLD\", \"NSW\", \"QLD\", \"QLD\", \"QLD\", \"VIC\", \"NSW\", \"VIC\", \"NSW\", \"NSW\", \"NSW\", \"SA\", \"NSW\", \"NSW\", \"VIC\", \"QLD\", \"VIC\", \"VIC\", \"ACT\", \"NSW\", \"VIC\", \"VIC\", \"WA\", \"WA\", \"WA\", \"NSW\", \"SA\", \"QLD\", \"TAS\", \"QLD\", \"NSW\", \"VIC\", \"QLD\", \"VIC\", \"NSW\", \"QLD\", \"NSW\", \"NSW\", \"SA\", \"NSW\", \"QLD\", \"NSW\", \"NSW\", \"NSW\", \"SA\", \"VIC\", \"VIC\", \"QLD\", \"WA\", \"WA\", \"QLD\", \"QLD\", \"WA\", \"QLD\", \"QLD\", \"NSW\", \"WA\", \"VIC\", \"NSW\", \"VIC\", \"QLD\", \"NSW\", \"TAS\", \"VIC\", \"NSW\", \"VIC\", \"NSW\", \"VIC\", \"ACT\", \"NSW\", \"NSW\", \"NSW\", \"VIC\", \"SA\", \"NSW\", \"NSW\", \"NSW\", \"VIC\", \"QLD\", \"VIC\", \"NSW\", \"QLD\", \"VIC\", \"VIC\"], [\"Susan Templeman\", \"Bridget Archer\", \"Gladys Liu\", \"Anika Wells\", \"Anne Aly\", \"Mike Kelly\", \"Libby Coker\", \"Shayne Neumann\", \"Nicolle Flint\", \"Emma Mcbride\", \"Graham Perrett\", \"Zali Steggall\", \"Rebekha Sharkie\", \"Fiona Phillips\", \"Steve Irons\", \"Peta Murphy\", \"Michelle Rowland\", \"Terri Butler\", \"Joel Fitzgibbon\", \"Luke Gosling\", \"Gavin Pearce\", \"Fiona Martin\", \"Terry Young\", \"Julie Owens\", \"Katie Allen\", \"Justine Elliot\", \"Warren Entsch\", \"Lucy Wicks\", \"Pat Conroy\", \"Jason Wood\", \"Peter Dutton\", \"Tony Smith\", \"Michael Sukkar\", \"Trevor Evans\", \"Patrick Gorman\", \"Matt Keogh\", \"Rob Mitchell\", \"Melissa Mcintosh\", \"Meryl Swanson\", \"Brian Mitchell\", \"Ken Wyatt\", \"Warren Snowdon\", \"Anne Stanley\", \"Greg Hunt\", \"Vince Connelly\", \"Clare O'neil\", \"Julian Simmonds\", \"Josh Burns\", \"David Coleman\", \"Milton Dick\", \"Mark Dreyfus\", \"Jim Chalmers\", \"Mark Butler\", \"Kate Thwaites\", \"Chris Bowen\", \"Madeleine King\", \"Josh Frydenberg\", \"James Stevens\", \"John Alexander\", \"Josh Wilson\", \"Russell Broadbent\", \"Ross Vasta\", \"David Smith\", \"Christian Porter\", \"Kevin Andrews\", \"Tim Wilson\", \"Steve Georganas\", \"Phillip Thompson\", \"Mike Freelander\", \"Luke Howarth\", \"Bert Van Manen\", \"Ken O'dowd\", \"Anthony Byrne\", \"Matt Thistlethwaite\", \"Lisa Chesters\", \"Trent Zimmerman\", \"Linda Burney\", \"Kevin Hogan\", \"Tony Zappia\", \"Craig Kelly\", \"Dave Sharma\", \"Alan Tudge\", \"Andrew Laming\", \"Richard Marles\", \"Dan Tehan\", \"Andrew Leigh\", \"Stephen Jones\", \"Catherine King\", \"Bill Shorten\", \"Ben Morton\", \"Andrew Hastie\", \"Ian Goodenough\", \"Pat Conaghan\", \"Amanda Rishworth\", \"Karen Andrews\", \"Julie Collins\", \"Michelle Landry\", \"Ed Husic\", \"Joanne Ryan\", \"Andrew Wallace\", \"Helen Haines\", \"Angus Taylor\", \"Llew O'brien\", \"Jason Falinski\", \"Andrew Gee\", \"Rowan Ramsey\", \"Sharon Bird\", \"Ted O'brien\", \"Tony Burke\", \"Sharon Claydon\", \"Chris Hayes\", \"Nick Champion\", \"Julian Hill\", \"Daniel Mulino\", \"Stuart Robert\", \"Celia Hammond\", \"Rick Wilson\", \"Keith Pitt\", \"Bob Katter\", \"Nola Marino\", \"Scott Buchholz\", \"George Christensen\", \"Jason Clare\", \"Melissa Price\", \"Tim Watts\", \"David Gillespie\", \"Brendan O'connor\", \"Angie Bell\", \"Julian Leeser\", \"Andrew Wilkie\", \"Anne Webster\", \"Paul Fletcher\", \"Darren Chester\", \"Mark Coulton\", \"Adam Bandt\", \"Alicia Payne\", \"Barnaby Joyce\", \"Alex Hawke\", \"Tanya Plibersek\", \"Maria Vamvakinou\", \"Tony Pasin\", \"Scott Morrison\", \"Michael Mccormack\", \"Sussan Ley\", \"Damian Drum\", \"John Mcveigh\", \"Andrew Giles\", \"Anthony Albanese\", \"David Littleproud\", \"Peter Khalil\", \"Ged Kearney\"], [\"ALP\", \"LP\", \"LP\", \"ALP\", \"ALP\", \"ALP\", \"ALP\", \"ALP\", \"LP\", \"ALP\", \"ALP\", \"LP\", \"LP\", \"ALP\", \"LP\", \"ALP\", \"ALP\", \"ALP\", \"ALP\", \"ALP\", \"LP\", \"LP\", \"LNP\", \"ALP\", \"LP\", \"ALP\", \"LNP\", \"LP\", \"ALP\", \"LP\", \"LNP\", \"LP\", \"LP\", \"LNP\", \"ALP\", \"ALP\", \"ALP\", \"LP\", \"ALP\", \"ALP\", \"LP\", \"ALP\", \"ALP\", \"LP\", \"LP\", \"ALP\", \"LNP\", \"ALP\", \"LP\", \"ALP\", \"ALP\", \"ALP\", \"ALP\", \"ALP\", \"ALP\", \"ALP\", \"LP\", \"LP\", \"LP\", \"ALP\", \"LP\", \"LNP\", \"ALP\", \"LP\", \"LP\", \"LP\", \"ALP\", \"LNP\", \"ALP\", \"LNP\", \"LNP\", \"LNP\", \"ALP\", \"ALP\", \"ALP\", \"LP\", \"ALP\", \"NP\", \"ALP\", \"LP\", \"LP\", \"LP\", \"LNP\", \"ALP\", \"LP\", \"ALP\", \"ALP\", \"ALP\", \"ALP\", \"LP\", \"LP\", \"LP\", \"NP\", \"ALP\", \"LNP\", \"ALP\", \"LNP\", \"ALP\", \"ALP\", \"LNP\", \"LP\", \"LP\", \"LNP\", \"LP\", \"NP\", \"LP\", \"ALP\", \"LNP\", \"ALP\", \"ALP\", \"ALP\", \"ALP\", \"ALP\", \"ALP\", \"LNP\", \"LP\", \"LP\", \"LNP\", \"LNP\", \"LP\", \"LNP\", \"LNP\", \"ALP\", \"LP\", \"ALP\", \"NP\", \"ALP\", \"LNP\", \"LP\", \"ALP\", \"NP\", \"LP\", \"NP\", \"NP\", \"ALP\", \"ALP\", \"NP\", \"LP\", \"ALP\", \"ALP\", \"LP\", \"LP\", \"NP\", \"LP\", \"NP\", \"LNP\", \"ALP\", \"ALP\", \"LNP\", \"ALP\", \"ALP\"], [2.0, 5.83, -2.34, 5.04, -0.15, 2.08, -1.04, 6.93, -1.33, 3.31, 2.12, -8.97, -0.73, -3.34, -0.9, -1.71, 3.51, -1.43, 9.48, 3.01, 4.82, -1.51, 4.07, 4.17, -6.09, -0.12, 0.22, 3.1, 5.49, 1.27, 2.95, 0.1, -1.66, -1.08, -1.6, 2.12, 0.98, 6.15, 5.7, -1.35, 3.34, 2.73, 2.73, -1.37, -0.47, -1.7, -2.95, -5.04, 4.82, 2.62, -3.45, 4.86, 1.89, -0.97, 5.47, 4.77, -6.14, 1.48, -2.81, 0.6, -0.15, 4.02, 1.33, 3.89, -0.28, -4.89, 0.12, 8.38, -0.07, 6.75, 7.97, 7.62, 1.24, -0.24, -5.17, -4.34, -1.11, 7.15, 1.07, 0.52, -7.9, 2.72, 3.17, -2.12, 1.23, 1.28, 39.09, -3.62, -0.8, 0.4, 4.76, 0.63, -0.7, 1.61, 0.56, -1.48, 11.72, 6.82, 1.78, 3.55, 7.72, 2.81, 4.96, -2.52, 1.48, 5.57, -0.09, 2.57, 4.06, 0.01, 3.5, 3.04, -0.1, 5.61, 2.94, -6.37, -0.56, 6.12, 7.77, 2.0, 4.96, 11.24, 4.76, 3.7, 0.29, 3.54, 3.13, 0.75, -0.8, -0.84, -3.57, -4.48, -1.54, 1.81, -0.06, -4.14, 1.21, 0.81, -3.36, 0.93, 5.07, 3.63, 3.04, -0.7, -2.49, 5.17, -2.08, -1.47, 7.88, -4.18, -4.23], [0.38, 0.82, 1.14, 1.28, 1.66, 1.7, 2.14, 2.42, 2.76, 3.0, 3.8, 4.24, 5.08, 5.22, 5.38, 5.48, 5.6, 5.72, 5.96, 6.16, 6.18, 6.36, 6.56, 7.0, 7.76, 8.16, 8.34, 8.48, 8.9, 8.98, 9.28, 9.28, 9.56, 9.84, 9.86, 9.98, 10.04, 10.08, 10.08, 10.36, 10.78, 10.92, 10.94, 11.28, 11.3, 11.82, 12.06, 12.5, 12.52, 12.78, 12.86, 12.88, 13.08, 13.14, 13.28, 13.32, 13.36, 13.74, 13.82, 13.84, 14.72, 14.82, 15.04, 15.04, 15.06, 15.58, 16.36, 16.72, 16.8, 16.8, 17.2, 17.32, 17.4, 17.62, 18.08, 18.54, 18.82, 18.9, 19.44, 19.7, 19.7, 20.26, 20.48, 20.64, 20.76, 21.12, 21.82, 21.96, 22.4, 22.94, 23.1, 23.3, 23.76, 23.88, 24.4, 24.42, 24.7, 24.74, 24.82, 25.4, 25.46, 25.98, 26.3, 26.44, 26.58, 26.64, 26.82, 26.88, 27.04, 27.66, 27.98, 28.26, 28.3, 28.36, 28.36, 28.66, 28.96, 29.0, 29.02, 29.12, 29.16, 29.22, 29.44, 29.52, 29.66, 30.34, 30.72, 30.72, 31.3, 32.34, 32.46, 33.12, 33.34, 33.82, 34.12, 34.16, 35.26, 37.26, 37.34, 37.6, 37.88, 38.04, 38.96, 39.66, 40.06, 40.96, 43.32, 47.66, 50.84, 51.7, 52.64], [636, 192, 275, 273, 69, 662, 554, 147, 483, 232, 336, 3884, 541, 592, 254, 197, 93, 432, 293, 171, 134, 388, 92, 181, 617, 840, 248, 394, 244, 122, 267, 363, 260, 960, 323, 55, 172, 98, 162, 177, 178, 119, 42, 389, 262, 124, 478, 629, 198, 147, 188, 74, 248, 372, 30, 85, 521, 314, 504, 395, 228, 237, 511, 79, 238, 517, 516, 240, 100, 137, 97, 48, 28, 602, 492, 1290, 304, 475, 93, 388, 1392, 138, 163, 215, 202, 339, 251, 406, 403, 230, 126, 129, 604, 165, 306, 399, 75, 69, 66, 310, 574, 283, 285, 1073, 311, 163, 401, 332, 131, 575, 37, 66, 42, 46, 125, 326, 169, 83, 89, 193, 163, 110, 72, 148, 341, 419, 30, 184, 439, 466, 113, 674, 273, 115, 1530, 1200, 362, 194, 1836, 46, 122, 270, 215, 176, 105, 157, 60, 1349, 97, 717, 773], [0.66, 0.28, 0.29, 0.28, 0.08, 0.67, 0.55, 0.15, 0.44, 0.23, 0.37, 4.22, 0.48, 0.55, 0.3, 0.2, 0.1, 0.43, 0.29, 0.31, 0.19, 0.41, 0.09, 0.21, 0.61, 0.84, 0.28, 0.41, 0.24, 0.12, 0.28, 0.36, 0.27, 0.94, 0.37, 0.06, 0.18, 0.1, 0.15, 0.25, 0.21, 0.25, 0.04, 0.4, 0.3, 0.13, 0.5, 0.65, 0.22, 0.16, 0.19, 0.09, 0.23, 0.38, 0.04, 0.1, 0.53, 0.29, 0.52, 0.43, 0.23, 0.25, 0.55, 0.08, 0.24, 0.52, 0.48, 0.26, 0.1, 0.13, 0.11, 0.05, 0.03, 0.64, 0.48, 1.33, 0.34, 0.44, 0.09, 0.41, 1.55, 0.14, 0.17, 0.22, 0.19, 0.39, 0.24, 0.4, 0.4, 0.28, 0.14, 0.15, 0.57, 0.16, 0.33, 0.57, 0.08, 0.08, 0.07, 0.31, 0.57, 0.28, 0.3, 1.09, 0.3, 0.16, 0.4, 0.34, 0.16, 0.56, 0.04, 0.06, 0.05, 0.05, 0.13, 0.37, 0.2, 0.09, 0.1, 0.21, 0.17, 0.12, 0.09, 0.19, 0.35, 0.41, 0.03, 0.2, 0.47, 0.69, 0.12, 0.7, 0.28, 0.12, 1.64, 1.39, 0.37, 0.2, 1.94, 0.05, 0.12, 0.29, 0.21, 0.18, 0.11, 0.16, 0.07, 1.41, 0.1, 0.75, 0.79]]}, \"header\": {\"align\": \"left\", \"fill\": {\"color\": \"paleturquoise\"}, \"values\": [\"Electorate\", \"State\", \"Name\", \"Party\", \"Swing 2019\", \"Margin 2019\", \"Climate Votes\", \"Climate Participation %\"]}, \"type\": \"table\"}],\n",
       "                        {\"template\": {\"data\": {\"bar\": [{\"error_x\": {\"color\": \"#2a3f5f\"}, \"error_y\": {\"color\": \"#2a3f5f\"}, \"marker\": {\"line\": {\"color\": \"#E5ECF6\", \"width\": 0.5}}, \"type\": \"bar\"}], \"barpolar\": [{\"marker\": {\"line\": {\"color\": \"#E5ECF6\", \"width\": 0.5}}, \"type\": \"barpolar\"}], \"carpet\": [{\"aaxis\": {\"endlinecolor\": \"#2a3f5f\", \"gridcolor\": \"white\", \"linecolor\": \"white\", \"minorgridcolor\": \"white\", \"startlinecolor\": \"#2a3f5f\"}, \"baxis\": {\"endlinecolor\": \"#2a3f5f\", \"gridcolor\": \"white\", \"linecolor\": \"white\", \"minorgridcolor\": \"white\", \"startlinecolor\": \"#2a3f5f\"}, \"type\": \"carpet\"}], \"choropleth\": [{\"colorbar\": {\"outlinewidth\": 0, \"ticks\": \"\"}, \"type\": \"choropleth\"}], \"contour\": [{\"colorbar\": {\"outlinewidth\": 0, \"ticks\": \"\"}, \"colorscale\": [[0.0, \"#0d0887\"], [0.1111111111111111, \"#46039f\"], [0.2222222222222222, \"#7201a8\"], [0.3333333333333333, \"#9c179e\"], [0.4444444444444444, \"#bd3786\"], [0.5555555555555556, \"#d8576b\"], [0.6666666666666666, \"#ed7953\"], [0.7777777777777778, \"#fb9f3a\"], [0.8888888888888888, \"#fdca26\"], [1.0, \"#f0f921\"]], \"type\": \"contour\"}], \"contourcarpet\": [{\"colorbar\": {\"outlinewidth\": 0, \"ticks\": \"\"}, \"type\": \"contourcarpet\"}], \"heatmap\": [{\"colorbar\": {\"outlinewidth\": 0, \"ticks\": \"\"}, \"colorscale\": [[0.0, \"#0d0887\"], [0.1111111111111111, \"#46039f\"], [0.2222222222222222, \"#7201a8\"], [0.3333333333333333, \"#9c179e\"], [0.4444444444444444, \"#bd3786\"], [0.5555555555555556, \"#d8576b\"], [0.6666666666666666, \"#ed7953\"], [0.7777777777777778, \"#fb9f3a\"], [0.8888888888888888, \"#fdca26\"], [1.0, \"#f0f921\"]], \"type\": \"heatmap\"}], \"heatmapgl\": [{\"colorbar\": {\"outlinewidth\": 0, \"ticks\": \"\"}, \"colorscale\": [[0.0, \"#0d0887\"], [0.1111111111111111, \"#46039f\"], [0.2222222222222222, \"#7201a8\"], [0.3333333333333333, \"#9c179e\"], [0.4444444444444444, \"#bd3786\"], [0.5555555555555556, \"#d8576b\"], [0.6666666666666666, \"#ed7953\"], [0.7777777777777778, \"#fb9f3a\"], [0.8888888888888888, \"#fdca26\"], [1.0, \"#f0f921\"]], \"type\": \"heatmapgl\"}], \"histogram\": [{\"marker\": {\"colorbar\": {\"outlinewidth\": 0, \"ticks\": \"\"}}, \"type\": \"histogram\"}], \"histogram2d\": [{\"colorbar\": {\"outlinewidth\": 0, \"ticks\": \"\"}, \"colorscale\": [[0.0, \"#0d0887\"], [0.1111111111111111, \"#46039f\"], [0.2222222222222222, \"#7201a8\"], [0.3333333333333333, \"#9c179e\"], [0.4444444444444444, \"#bd3786\"], [0.5555555555555556, \"#d8576b\"], [0.6666666666666666, \"#ed7953\"], [0.7777777777777778, \"#fb9f3a\"], [0.8888888888888888, \"#fdca26\"], [1.0, \"#f0f921\"]], \"type\": \"histogram2d\"}], \"histogram2dcontour\": [{\"colorbar\": {\"outlinewidth\": 0, \"ticks\": \"\"}, \"colorscale\": [[0.0, \"#0d0887\"], [0.1111111111111111, \"#46039f\"], [0.2222222222222222, \"#7201a8\"], [0.3333333333333333, \"#9c179e\"], [0.4444444444444444, \"#bd3786\"], [0.5555555555555556, \"#d8576b\"], [0.6666666666666666, \"#ed7953\"], [0.7777777777777778, \"#fb9f3a\"], [0.8888888888888888, \"#fdca26\"], [1.0, \"#f0f921\"]], \"type\": \"histogram2dcontour\"}], \"mesh3d\": [{\"colorbar\": {\"outlinewidth\": 0, \"ticks\": \"\"}, \"type\": \"mesh3d\"}], \"parcoords\": [{\"line\": {\"colorbar\": {\"outlinewidth\": 0, \"ticks\": \"\"}}, \"type\": \"parcoords\"}], \"pie\": [{\"automargin\": true, \"type\": \"pie\"}], \"scatter\": [{\"marker\": {\"colorbar\": {\"outlinewidth\": 0, \"ticks\": \"\"}}, \"type\": \"scatter\"}], \"scatter3d\": [{\"line\": {\"colorbar\": {\"outlinewidth\": 0, \"ticks\": \"\"}}, \"marker\": {\"colorbar\": {\"outlinewidth\": 0, \"ticks\": \"\"}}, \"type\": \"scatter3d\"}], \"scattercarpet\": [{\"marker\": {\"colorbar\": {\"outlinewidth\": 0, \"ticks\": \"\"}}, \"type\": \"scattercarpet\"}], \"scattergeo\": [{\"marker\": {\"colorbar\": {\"outlinewidth\": 0, \"ticks\": \"\"}}, \"type\": \"scattergeo\"}], \"scattergl\": [{\"marker\": {\"colorbar\": {\"outlinewidth\": 0, \"ticks\": \"\"}}, \"type\": \"scattergl\"}], \"scattermapbox\": [{\"marker\": {\"colorbar\": {\"outlinewidth\": 0, \"ticks\": \"\"}}, \"type\": \"scattermapbox\"}], \"scatterpolar\": [{\"marker\": {\"colorbar\": {\"outlinewidth\": 0, \"ticks\": \"\"}}, \"type\": \"scatterpolar\"}], \"scatterpolargl\": [{\"marker\": {\"colorbar\": {\"outlinewidth\": 0, \"ticks\": \"\"}}, \"type\": \"scatterpolargl\"}], \"scatterternary\": [{\"marker\": {\"colorbar\": {\"outlinewidth\": 0, \"ticks\": \"\"}}, \"type\": \"scatterternary\"}], \"surface\": [{\"colorbar\": {\"outlinewidth\": 0, \"ticks\": \"\"}, \"colorscale\": [[0.0, \"#0d0887\"], [0.1111111111111111, \"#46039f\"], [0.2222222222222222, \"#7201a8\"], [0.3333333333333333, \"#9c179e\"], [0.4444444444444444, \"#bd3786\"], [0.5555555555555556, \"#d8576b\"], [0.6666666666666666, \"#ed7953\"], [0.7777777777777778, \"#fb9f3a\"], [0.8888888888888888, \"#fdca26\"], [1.0, \"#f0f921\"]], \"type\": \"surface\"}], \"table\": [{\"cells\": {\"fill\": {\"color\": \"#EBF0F8\"}, \"line\": {\"color\": \"white\"}}, \"header\": {\"fill\": {\"color\": \"#C8D4E3\"}, \"line\": {\"color\": \"white\"}}, \"type\": \"table\"}]}, \"layout\": {\"annotationdefaults\": {\"arrowcolor\": \"#2a3f5f\", \"arrowhead\": 0, \"arrowwidth\": 1}, \"coloraxis\": {\"colorbar\": {\"outlinewidth\": 0, \"ticks\": \"\"}}, \"colorscale\": {\"diverging\": [[0, \"#8e0152\"], [0.1, \"#c51b7d\"], [0.2, \"#de77ae\"], [0.3, \"#f1b6da\"], [0.4, \"#fde0ef\"], [0.5, \"#f7f7f7\"], [0.6, \"#e6f5d0\"], [0.7, \"#b8e186\"], [0.8, \"#7fbc41\"], [0.9, \"#4d9221\"], [1, \"#276419\"]], \"sequential\": [[0.0, \"#0d0887\"], [0.1111111111111111, \"#46039f\"], [0.2222222222222222, \"#7201a8\"], [0.3333333333333333, \"#9c179e\"], [0.4444444444444444, \"#bd3786\"], [0.5555555555555556, \"#d8576b\"], [0.6666666666666666, \"#ed7953\"], [0.7777777777777778, \"#fb9f3a\"], [0.8888888888888888, \"#fdca26\"], [1.0, \"#f0f921\"]], \"sequentialminus\": [[0.0, \"#0d0887\"], [0.1111111111111111, \"#46039f\"], [0.2222222222222222, \"#7201a8\"], [0.3333333333333333, \"#9c179e\"], [0.4444444444444444, \"#bd3786\"], [0.5555555555555556, \"#d8576b\"], [0.6666666666666666, \"#ed7953\"], [0.7777777777777778, \"#fb9f3a\"], [0.8888888888888888, \"#fdca26\"], [1.0, \"#f0f921\"]]}, \"colorway\": [\"#636efa\", \"#EF553B\", \"#00cc96\", \"#ab63fa\", \"#FFA15A\", \"#19d3f3\", \"#FF6692\", \"#B6E880\", \"#FF97FF\", \"#FECB52\"], \"font\": {\"color\": \"#2a3f5f\"}, \"geo\": {\"bgcolor\": \"white\", \"lakecolor\": \"white\", \"landcolor\": \"#E5ECF6\", \"showlakes\": true, \"showland\": true, \"subunitcolor\": \"white\"}, \"hoverlabel\": {\"align\": \"left\"}, \"hovermode\": \"closest\", \"mapbox\": {\"style\": \"light\"}, \"paper_bgcolor\": \"white\", \"plot_bgcolor\": \"#E5ECF6\", \"polar\": {\"angularaxis\": {\"gridcolor\": \"white\", \"linecolor\": \"white\", \"ticks\": \"\"}, \"bgcolor\": \"#E5ECF6\", \"radialaxis\": {\"gridcolor\": \"white\", \"linecolor\": \"white\", \"ticks\": \"\"}}, \"scene\": {\"xaxis\": {\"backgroundcolor\": \"#E5ECF6\", \"gridcolor\": \"white\", \"gridwidth\": 2, \"linecolor\": \"white\", \"showbackground\": true, \"ticks\": \"\", \"zerolinecolor\": \"white\"}, \"yaxis\": {\"backgroundcolor\": \"#E5ECF6\", \"gridcolor\": \"white\", \"gridwidth\": 2, \"linecolor\": \"white\", \"showbackground\": true, \"ticks\": \"\", \"zerolinecolor\": \"white\"}, \"zaxis\": {\"backgroundcolor\": \"#E5ECF6\", \"gridcolor\": \"white\", \"gridwidth\": 2, \"linecolor\": \"white\", \"showbackground\": true, \"ticks\": \"\", \"zerolinecolor\": \"white\"}}, \"shapedefaults\": {\"line\": {\"color\": \"#2a3f5f\"}}, \"ternary\": {\"aaxis\": {\"gridcolor\": \"white\", \"linecolor\": \"white\", \"ticks\": \"\"}, \"baxis\": {\"gridcolor\": \"white\", \"linecolor\": \"white\", \"ticks\": \"\"}, \"bgcolor\": \"#E5ECF6\", \"caxis\": {\"gridcolor\": \"white\", \"linecolor\": \"white\", \"ticks\": \"\"}}, \"title\": {\"x\": 0.05}, \"xaxis\": {\"automargin\": true, \"gridcolor\": \"white\", \"linecolor\": \"white\", \"ticks\": \"\", \"title\": {\"standoff\": 15}, \"zerolinecolor\": \"white\", \"zerolinewidth\": 2}, \"yaxis\": {\"automargin\": true, \"gridcolor\": \"white\", \"linecolor\": \"white\", \"ticks\": \"\", \"title\": {\"standoff\": 15}, \"zerolinecolor\": \"white\", \"zerolinewidth\": 2}}}},\n",
       "                        {\"responsive\": true}\n",
       "                    ).then(function(){\n",
       "                            \n",
       "var gd = document.getElementById('99a46d9f-ad13-4de8-bc07-d2cf8f978827');\n",
       "var x = new MutationObserver(function (mutations, observer) {{\n",
       "        var display = window.getComputedStyle(gd).display;\n",
       "        if (!display || display === 'none') {{\n",
       "            console.log([gd, 'removed!']);\n",
       "            Plotly.purge(gd);\n",
       "            observer.disconnect();\n",
       "        }}\n",
       "}});\n",
       "\n",
       "// Listen for the removal of the full notebook cells\n",
       "var notebookContainer = gd.closest('#notebook-container');\n",
       "if (notebookContainer) {{\n",
       "    x.observe(notebookContainer, {childList: true});\n",
       "}}\n",
       "\n",
       "// Listen for the clearing of the current output cell\n",
       "var outputEl = gd.closest('.output');\n",
       "if (outputEl) {{\n",
       "    x.observe(outputEl, {childList: true});\n",
       "}}\n",
       "\n",
       "                        })\n",
       "                };\n",
       "                });\n",
       "            </script>\n",
       "        </div>"
      ]
     },
     "metadata": {},
     "output_type": "display_data"
    }
   ],
   "source": [
    "\n",
    "vote_stats = vote_stats.sort_values(by=\"Margin\", ascending=True)\n",
    "\n",
    "fig = go.Figure(data=[go.Table(\n",
    "    header=dict(values=[\"Electorate\", \"State\", \"Name\", \"Party\", \"Swing 2019\", \"Margin 2019\", \"Climate Votes\", \"Climate Participation %\"],\n",
    "                fill_color='paleturquoise',\n",
    "                align='left'),\n",
    "    cells=dict(values=[vote_stats.electorate, vote_stats.state, vote_stats.preferred_name, vote_stats.Party, vote_stats.Swing, vote_stats.Margin, vote_stats.votes, vote_stats.Participation,],\n",
    "               fill_color='lavender',\n",
    "               align='left'))\n",
    "])\n",
    "\n",
    "fig.show()"
   ]
  },
  {
   "cell_type": "code",
   "execution_count": null,
   "metadata": {},
   "outputs": [],
   "source": []
  }
 ],
 "metadata": {
  "kernelspec": {
   "display_name": "Python 3",
   "language": "python",
   "name": "python3"
  },
  "language_info": {
   "codemirror_mode": {
    "name": "ipython",
    "version": 3
   },
   "file_extension": ".py",
   "mimetype": "text/x-python",
   "name": "python",
   "nbconvert_exporter": "python",
   "pygments_lexer": "ipython3",
   "version": "3.7.4"
  }
 },
 "nbformat": 4,
 "nbformat_minor": 4
}
